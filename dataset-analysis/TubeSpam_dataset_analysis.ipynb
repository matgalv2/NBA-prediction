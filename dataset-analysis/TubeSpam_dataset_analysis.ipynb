{
 "cells": [
  {
   "cell_type": "code",
   "id": "initial_id",
   "metadata": {
    "collapsed": true,
    "ExecuteTime": {
     "end_time": "2024-06-05T18:24:14.789373Z",
     "start_time": "2024-06-05T18:24:12.298291Z"
    }
   },
   "source": [
    "import pandas as pd\n",
    "import os\n",
    "\n",
    "from sklearn import svm\n",
    "from sklearn.feature_extraction.text import CountVectorizer\n",
    "from sklearn.model_selection import KFold, GridSearchCV, cross_val_score\n",
    "\n",
    "import nltk\n",
    "from nltk.corpus import stopwords\n",
    "from nltk.stem import *\n"
   ],
   "outputs": [],
   "execution_count": 2
  },
  {
   "metadata": {
    "ExecuteTime": {
     "end_time": "2024-06-05T18:24:14.820643Z",
     "start_time": "2024-06-05T18:24:14.789373Z"
    }
   },
   "cell_type": "code",
   "source": [
    "path = \"X:/ProgramFiles/JetBrains/PycharmProjects/NBA-predictor/resources/spam-filtering\"\n",
    "\n",
    "filenames = os.listdir(path)\n",
    "videos = [pd.read_csv(path + '/' + filename, sep=',') for filename in filenames]\n",
    "\n",
    "dataset = pd.concat(videos)"
   ],
   "id": "290f15f0eb971160",
   "outputs": [],
   "execution_count": 3
  },
  {
   "metadata": {
    "ExecuteTime": {
     "end_time": "2024-06-05T18:24:14.852285Z",
     "start_time": "2024-06-05T18:24:14.820643Z"
    }
   },
   "cell_type": "code",
   "source": "dataset.sample(frac=1).head(10)",
   "id": "569e2a705b1e0c50",
   "outputs": [
    {
     "data": {
      "text/plain": [
       "                                      COMMENT_ID                   AUTHOR  \\\n",
       "181  LneaDw26bFv1OK5quUOMAxJiN8tdhKPRzQMpB13UZpY              Jerry White   \n",
       "333            z13kjhwrdtvjzbbtc22ag3u4nmaocb023          Jamie Breedlove   \n",
       "292          z13wwxhgmr2ocvbks22mdpdwdu3lz3mze04          Jarelys Mellado   \n",
       "81         z12jud4o3n34v5wph04ce3db0y2njn55gog0k             Kaya Roberts   \n",
       "316            z12isnmj3wuovj4tt22stv0x1kblzls1w             Sandy Torres   \n",
       "222        z13nujhysyf3ftvgt04ccrd4szrxcvzbvt00k  MeSoHornyMeLuvULongTime   \n",
       "338          z13jzn1hvk35dxxzu04cj5lqmzv2thoquag            Sophie Flores   \n",
       "5            z133yfmjdur4dvyjr04ceh2osl2fvngrqi4          Darrion Johnson   \n",
       "352          z13isrygru30wbjmy23refqxdzizyp3xy04                Ala Fatah   \n",
       "145            z13byjoiuqvhctxc423ahhxafrizwhfto             tonya parker   \n",
       "\n",
       "                           DATE  \\\n",
       "181                         NaN   \n",
       "333         2014-11-10T18:18:04   \n",
       "292  2015-02-23T00:37:24.817000   \n",
       "81          2014-11-02T20:00:37   \n",
       "316  2015-01-30T16:48:13.985000   \n",
       "222         2014-10-18T04:58:21   \n",
       "338  2015-01-10T18:17:21.145000   \n",
       "5    2015-05-29T01:27:30.360000   \n",
       "352  2015-05-21T18:00:06.674000   \n",
       "145         2014-09-21T23:01:03   \n",
       "\n",
       "                                               CONTENT  CLASS  \n",
       "181  You guys should check out this EXTRAORDINARY w...      1  \n",
       "333                                I love your music ﻿      0  \n",
       "292      Check out this video on YouTube:<br /><br />﻿      1  \n",
       "81   Admit it you just came here to check the numbe...      0  \n",
       "316               Check out this playlist on YouTube:﻿      1  \n",
       "222  This video is so racist!!! There are only anim...      0  \n",
       "338                  Check out this video on YouTube:﻿      1  \n",
       "5    Wow this video almost has a billion views! Did...      0  \n",
       "352                                Is that Megan Fox?﻿      0  \n",
       "145  This is the best of the best video in world!!!...      0  "
      ],
      "text/html": [
       "<div>\n",
       "<style scoped>\n",
       "    .dataframe tbody tr th:only-of-type {\n",
       "        vertical-align: middle;\n",
       "    }\n",
       "\n",
       "    .dataframe tbody tr th {\n",
       "        vertical-align: top;\n",
       "    }\n",
       "\n",
       "    .dataframe thead th {\n",
       "        text-align: right;\n",
       "    }\n",
       "</style>\n",
       "<table border=\"1\" class=\"dataframe\">\n",
       "  <thead>\n",
       "    <tr style=\"text-align: right;\">\n",
       "      <th></th>\n",
       "      <th>COMMENT_ID</th>\n",
       "      <th>AUTHOR</th>\n",
       "      <th>DATE</th>\n",
       "      <th>CONTENT</th>\n",
       "      <th>CLASS</th>\n",
       "    </tr>\n",
       "  </thead>\n",
       "  <tbody>\n",
       "    <tr>\n",
       "      <th>181</th>\n",
       "      <td>LneaDw26bFv1OK5quUOMAxJiN8tdhKPRzQMpB13UZpY</td>\n",
       "      <td>Jerry White</td>\n",
       "      <td>NaN</td>\n",
       "      <td>You guys should check out this EXTRAORDINARY w...</td>\n",
       "      <td>1</td>\n",
       "    </tr>\n",
       "    <tr>\n",
       "      <th>333</th>\n",
       "      <td>z13kjhwrdtvjzbbtc22ag3u4nmaocb023</td>\n",
       "      <td>Jamie Breedlove</td>\n",
       "      <td>2014-11-10T18:18:04</td>\n",
       "      <td>I love your music ﻿</td>\n",
       "      <td>0</td>\n",
       "    </tr>\n",
       "    <tr>\n",
       "      <th>292</th>\n",
       "      <td>z13wwxhgmr2ocvbks22mdpdwdu3lz3mze04</td>\n",
       "      <td>Jarelys Mellado</td>\n",
       "      <td>2015-02-23T00:37:24.817000</td>\n",
       "      <td>Check out this video on YouTube:&lt;br /&gt;&lt;br /&gt;﻿</td>\n",
       "      <td>1</td>\n",
       "    </tr>\n",
       "    <tr>\n",
       "      <th>81</th>\n",
       "      <td>z12jud4o3n34v5wph04ce3db0y2njn55gog0k</td>\n",
       "      <td>Kaya Roberts</td>\n",
       "      <td>2014-11-02T20:00:37</td>\n",
       "      <td>Admit it you just came here to check the numbe...</td>\n",
       "      <td>0</td>\n",
       "    </tr>\n",
       "    <tr>\n",
       "      <th>316</th>\n",
       "      <td>z12isnmj3wuovj4tt22stv0x1kblzls1w</td>\n",
       "      <td>Sandy Torres</td>\n",
       "      <td>2015-01-30T16:48:13.985000</td>\n",
       "      <td>Check out this playlist on YouTube:﻿</td>\n",
       "      <td>1</td>\n",
       "    </tr>\n",
       "    <tr>\n",
       "      <th>222</th>\n",
       "      <td>z13nujhysyf3ftvgt04ccrd4szrxcvzbvt00k</td>\n",
       "      <td>MeSoHornyMeLuvULongTime</td>\n",
       "      <td>2014-10-18T04:58:21</td>\n",
       "      <td>This video is so racist!!! There are only anim...</td>\n",
       "      <td>0</td>\n",
       "    </tr>\n",
       "    <tr>\n",
       "      <th>338</th>\n",
       "      <td>z13jzn1hvk35dxxzu04cj5lqmzv2thoquag</td>\n",
       "      <td>Sophie Flores</td>\n",
       "      <td>2015-01-10T18:17:21.145000</td>\n",
       "      <td>Check out this video on YouTube:﻿</td>\n",
       "      <td>1</td>\n",
       "    </tr>\n",
       "    <tr>\n",
       "      <th>5</th>\n",
       "      <td>z133yfmjdur4dvyjr04ceh2osl2fvngrqi4</td>\n",
       "      <td>Darrion Johnson</td>\n",
       "      <td>2015-05-29T01:27:30.360000</td>\n",
       "      <td>Wow this video almost has a billion views! Did...</td>\n",
       "      <td>0</td>\n",
       "    </tr>\n",
       "    <tr>\n",
       "      <th>352</th>\n",
       "      <td>z13isrygru30wbjmy23refqxdzizyp3xy04</td>\n",
       "      <td>Ala Fatah</td>\n",
       "      <td>2015-05-21T18:00:06.674000</td>\n",
       "      <td>Is that Megan Fox?﻿</td>\n",
       "      <td>0</td>\n",
       "    </tr>\n",
       "    <tr>\n",
       "      <th>145</th>\n",
       "      <td>z13byjoiuqvhctxc423ahhxafrizwhfto</td>\n",
       "      <td>tonya parker</td>\n",
       "      <td>2014-09-21T23:01:03</td>\n",
       "      <td>This is the best of the best video in world!!!...</td>\n",
       "      <td>0</td>\n",
       "    </tr>\n",
       "  </tbody>\n",
       "</table>\n",
       "</div>"
      ]
     },
     "execution_count": 4,
     "metadata": {},
     "output_type": "execute_result"
    }
   ],
   "execution_count": 4
  },
  {
   "metadata": {
    "ExecuteTime": {
     "end_time": "2024-06-05T18:24:15.038554Z",
     "start_time": "2024-06-05T18:24:14.852285Z"
    }
   },
   "cell_type": "code",
   "source": "nltk.download('wordnet')",
   "id": "404d7424b8080de",
   "outputs": [
    {
     "name": "stderr",
     "output_type": "stream",
     "text": [
      "[nltk_data] Downloading package wordnet to\n",
      "[nltk_data]     C:\\Users\\Mateusz\\AppData\\Roaming\\nltk_data...\n",
      "[nltk_data]   Package wordnet is already up-to-date!\n"
     ]
    },
    {
     "data": {
      "text/plain": [
       "True"
      ]
     },
     "execution_count": 5,
     "metadata": {},
     "output_type": "execute_result"
    }
   ],
   "execution_count": 5
  },
  {
   "metadata": {
    "ExecuteTime": {
     "end_time": "2024-06-05T18:24:15.070220Z",
     "start_time": "2024-06-05T18:24:15.038554Z"
    }
   },
   "cell_type": "code",
   "source": [
    "stop_words = stopwords.words(\"english\")\n",
    "vectorizer = CountVectorizer(stop_words=stop_words)"
   ],
   "id": "675a8881ffdca5f0",
   "outputs": [],
   "execution_count": 6
  },
  {
   "metadata": {
    "ExecuteTime": {
     "end_time": "2024-06-05T18:24:15.085851Z",
     "start_time": "2024-06-05T18:24:15.070220Z"
    }
   },
   "cell_type": "code",
   "source": "Y = dataset[\"CLASS\"].tolist()",
   "id": "814292106d3fc33c",
   "outputs": [],
   "execution_count": 7
  },
  {
   "metadata": {
    "ExecuteTime": {
     "end_time": "2024-06-05T18:24:15.101469Z",
     "start_time": "2024-06-05T18:24:15.085851Z"
    }
   },
   "cell_type": "code",
   "source": "wnl = WordNetLemmatizer()",
   "id": "f2744f0079edc6de",
   "outputs": [],
   "execution_count": 8
  },
  {
   "metadata": {
    "ExecuteTime": {
     "end_time": "2024-06-05T18:24:15.117097Z",
     "start_time": "2024-06-05T18:24:15.101469Z"
    }
   },
   "cell_type": "code",
   "source": [
    "def hypertune_svm(x, y):\n",
    "    model = svm.SVC()\n",
    "    kernel = ['linear', 'poly', 'rbf', 'sigmoid']\n",
    "    C = [1000, 100, 50, 10, 1.0, 0.1, 0.01]\n",
    "    gamma = ['scale']\n",
    "    degree = range(1,11)\n",
    "    # define grid search\n",
    "    grid = dict(kernel=kernel,C=C,gamma=gamma, degree=degree)\n",
    "    \n",
    "    # model = LogisticRegression()\n",
    "    # # solvers = ['newton-cg', 'lbfgs', 'liblinear']\n",
    "    # solvers = ['saga', 'liblinear']\n",
    "    # penalty = ['l1', 'l2']\n",
    "    # c_values = [100, 10, 1.0, 0.1, 0.01]\n",
    "    # # define grid search\n",
    "    # grid = dict(solver=solvers, penalty=penalty, C=c_values)\n",
    "    \n",
    "    cv = KFold(n_splits=10)\n",
    "    grid_search = GridSearchCV(estimator=model, param_grid=grid, n_jobs=-1, cv=cv, scoring='precision', error_score=0)\n",
    "    grid_result = grid_search.fit(x, y)\n",
    "    print(\"Best: %f using %s\" % (grid_result.best_score_, grid_result.best_params_))\n",
    "    means = grid_result.cv_results_['mean_test_score']\n",
    "    stds = grid_result.cv_results_['std_test_score']\n",
    "    params = grid_result.cv_results_['params']\n",
    "    for mean, stdev, param in zip(means, stds, params):\n",
    "        print(\"%f (%f) with: %r\" % (mean, stdev, param))"
   ],
   "id": "e4337bccf19f12d1",
   "outputs": [],
   "execution_count": 9
  },
  {
   "metadata": {
    "ExecuteTime": {
     "end_time": "2024-06-05T18:25:34.184187Z",
     "start_time": "2024-06-05T18:24:15.117097Z"
    }
   },
   "cell_type": "code",
   "source": [
    "X_lem = vectorizer.fit_transform(dataset[\"CONTENT\"].apply(wnl.lemmatize))\n",
    "hypertune_svm(X_lem,Y)"
   ],
   "id": "34de7414e5c3d4b1",
   "outputs": [
    {
     "name": "stderr",
     "output_type": "stream",
     "text": [
      "\n",
      "KeyboardInterrupt\n",
      "\n"
     ]
    }
   ],
   "execution_count": 10
  },
  {
   "metadata": {},
   "cell_type": "markdown",
   "source": "## Bags of words with stemming",
   "id": "f5c52d3c924ddc94"
  },
  {
   "metadata": {
    "ExecuteTime": {
     "end_time": "2024-06-05T18:25:39.878090Z",
     "start_time": "2024-06-05T18:25:39.862421Z"
    }
   },
   "cell_type": "code",
   "source": "stemmer = PorterStemmer()",
   "id": "364623776b1e1ffa",
   "outputs": [],
   "execution_count": 11
  },
  {
   "metadata": {},
   "cell_type": "code",
   "source": [
    "X_stem = vectorizer.fit_transform(dataset[\"CONTENT\"].apply(stemmer.stem))\n",
    "hypertune_svm(X_stem,Y)"
   ],
   "id": "898eef1c37e5aa9c",
   "outputs": [],
   "execution_count": null
  },
  {
   "metadata": {},
   "cell_type": "markdown",
   "source": "",
   "id": "dcc5a5e245d0f006"
  },
  {
   "metadata": {},
   "cell_type": "markdown",
   "source": "",
   "id": "c1ae850f6c2026f"
  },
  {
   "metadata": {
    "ExecuteTime": {
     "end_time": "2024-06-05T18:25:46.214681Z",
     "start_time": "2024-06-05T18:25:43.338482Z"
    }
   },
   "cell_type": "code",
   "source": [
    "model = svm.SVC(kernel='rbf', C=10, gamma='scale', degree=2)\n",
    "scores_acc = cross_val_score(model, X_lem, Y, cv=10, scoring='accuracy')\n",
    "scores_prec = cross_val_score(model, X_lem, Y, cv=10, scoring='precision')"
   ],
   "id": "e6ee17423bb7352d",
   "outputs": [],
   "execution_count": 12
  },
  {
   "metadata": {
    "ExecuteTime": {
     "end_time": "2024-06-05T18:25:47.734172Z",
     "start_time": "2024-06-05T18:25:47.702926Z"
    }
   },
   "cell_type": "code",
   "source": "scores_acc.mean(), scores_prec.mean()",
   "id": "bb01ade2d5ece3dc",
   "outputs": [
    {
     "data": {
      "text/plain": [
       "(0.9488984824699109, 0.950040593728599)"
      ]
     },
     "execution_count": 13,
     "metadata": {},
     "output_type": "execute_result"
    }
   ],
   "execution_count": 13
  },
  {
   "metadata": {
    "ExecuteTime": {
     "end_time": "2024-06-05T18:25:50.887676Z",
     "start_time": "2024-06-05T18:25:50.856404Z"
    }
   },
   "cell_type": "code",
   "source": [
    "path_to_results = \"X:/ProgramFiles/JetBrains/PycharmProjects/NBA-predictor/resources/researches/spam-filtering.tsv\"\n",
    "results = pd.read_csv(path_to_results, sep='\\t')\n",
    "\n",
    "results"
   ],
   "id": "1c3d3d2eeda95f4d",
   "outputs": [
    {
     "data": {
      "text/plain": [
       "         technique   kernel        C  gamma degree  precision\n",
       "0    lemmatization   linear  1000.00  scale      -    0.94113\n",
       "1    lemmatization     poly  1000.00  scale      1    0.94113\n",
       "2    lemmatization      rbf  1000.00  scale      -    0.93919\n",
       "3    lemmatization  sigmoid  1000.00  scale      -    0.88844\n",
       "4    lemmatization   linear  1000.00  scale      -    0.94113\n",
       "..             ...      ...      ...    ...    ...        ...\n",
       "555       stemming  sigmoid     0.01  scale      -    0.61341\n",
       "556       stemming   linear     0.01  scale      -    0.98234\n",
       "557       stemming     poly     0.01  scale     10    0.95500\n",
       "558       stemming      rbf     0.01  scale      -    0.73248\n",
       "559       stemming  sigmoid     0.01  scale      -    0.61341\n",
       "\n",
       "[560 rows x 6 columns]"
      ],
      "text/html": [
       "<div>\n",
       "<style scoped>\n",
       "    .dataframe tbody tr th:only-of-type {\n",
       "        vertical-align: middle;\n",
       "    }\n",
       "\n",
       "    .dataframe tbody tr th {\n",
       "        vertical-align: top;\n",
       "    }\n",
       "\n",
       "    .dataframe thead th {\n",
       "        text-align: right;\n",
       "    }\n",
       "</style>\n",
       "<table border=\"1\" class=\"dataframe\">\n",
       "  <thead>\n",
       "    <tr style=\"text-align: right;\">\n",
       "      <th></th>\n",
       "      <th>technique</th>\n",
       "      <th>kernel</th>\n",
       "      <th>C</th>\n",
       "      <th>gamma</th>\n",
       "      <th>degree</th>\n",
       "      <th>precision</th>\n",
       "    </tr>\n",
       "  </thead>\n",
       "  <tbody>\n",
       "    <tr>\n",
       "      <th>0</th>\n",
       "      <td>lemmatization</td>\n",
       "      <td>linear</td>\n",
       "      <td>1000.00</td>\n",
       "      <td>scale</td>\n",
       "      <td>-</td>\n",
       "      <td>0.94113</td>\n",
       "    </tr>\n",
       "    <tr>\n",
       "      <th>1</th>\n",
       "      <td>lemmatization</td>\n",
       "      <td>poly</td>\n",
       "      <td>1000.00</td>\n",
       "      <td>scale</td>\n",
       "      <td>1</td>\n",
       "      <td>0.94113</td>\n",
       "    </tr>\n",
       "    <tr>\n",
       "      <th>2</th>\n",
       "      <td>lemmatization</td>\n",
       "      <td>rbf</td>\n",
       "      <td>1000.00</td>\n",
       "      <td>scale</td>\n",
       "      <td>-</td>\n",
       "      <td>0.93919</td>\n",
       "    </tr>\n",
       "    <tr>\n",
       "      <th>3</th>\n",
       "      <td>lemmatization</td>\n",
       "      <td>sigmoid</td>\n",
       "      <td>1000.00</td>\n",
       "      <td>scale</td>\n",
       "      <td>-</td>\n",
       "      <td>0.88844</td>\n",
       "    </tr>\n",
       "    <tr>\n",
       "      <th>4</th>\n",
       "      <td>lemmatization</td>\n",
       "      <td>linear</td>\n",
       "      <td>1000.00</td>\n",
       "      <td>scale</td>\n",
       "      <td>-</td>\n",
       "      <td>0.94113</td>\n",
       "    </tr>\n",
       "    <tr>\n",
       "      <th>...</th>\n",
       "      <td>...</td>\n",
       "      <td>...</td>\n",
       "      <td>...</td>\n",
       "      <td>...</td>\n",
       "      <td>...</td>\n",
       "      <td>...</td>\n",
       "    </tr>\n",
       "    <tr>\n",
       "      <th>555</th>\n",
       "      <td>stemming</td>\n",
       "      <td>sigmoid</td>\n",
       "      <td>0.01</td>\n",
       "      <td>scale</td>\n",
       "      <td>-</td>\n",
       "      <td>0.61341</td>\n",
       "    </tr>\n",
       "    <tr>\n",
       "      <th>556</th>\n",
       "      <td>stemming</td>\n",
       "      <td>linear</td>\n",
       "      <td>0.01</td>\n",
       "      <td>scale</td>\n",
       "      <td>-</td>\n",
       "      <td>0.98234</td>\n",
       "    </tr>\n",
       "    <tr>\n",
       "      <th>557</th>\n",
       "      <td>stemming</td>\n",
       "      <td>poly</td>\n",
       "      <td>0.01</td>\n",
       "      <td>scale</td>\n",
       "      <td>10</td>\n",
       "      <td>0.95500</td>\n",
       "    </tr>\n",
       "    <tr>\n",
       "      <th>558</th>\n",
       "      <td>stemming</td>\n",
       "      <td>rbf</td>\n",
       "      <td>0.01</td>\n",
       "      <td>scale</td>\n",
       "      <td>-</td>\n",
       "      <td>0.73248</td>\n",
       "    </tr>\n",
       "    <tr>\n",
       "      <th>559</th>\n",
       "      <td>stemming</td>\n",
       "      <td>sigmoid</td>\n",
       "      <td>0.01</td>\n",
       "      <td>scale</td>\n",
       "      <td>-</td>\n",
       "      <td>0.61341</td>\n",
       "    </tr>\n",
       "  </tbody>\n",
       "</table>\n",
       "<p>560 rows × 6 columns</p>\n",
       "</div>"
      ]
     },
     "execution_count": 14,
     "metadata": {},
     "output_type": "execute_result"
    }
   ],
   "execution_count": 14
  }
 ],
 "metadata": {
  "kernelspec": {
   "display_name": "Python 3",
   "language": "python",
   "name": "python3"
  },
  "language_info": {
   "codemirror_mode": {
    "name": "ipython",
    "version": 2
   },
   "file_extension": ".py",
   "mimetype": "text/x-python",
   "name": "python",
   "nbconvert_exporter": "python",
   "pygments_lexer": "ipython2",
   "version": "2.7.6"
  }
 },
 "nbformat": 4,
 "nbformat_minor": 5
}
