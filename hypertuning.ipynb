{
 "cells": [
  {
   "cell_type": "code",
   "id": "initial_id",
   "metadata": {
    "collapsed": true,
    "ExecuteTime": {
     "end_time": "2024-06-01T15:40:50.923389Z",
     "start_time": "2024-06-01T15:40:50.907285Z"
    }
   },
   "source": [
    "import numpy as np\n",
    "import pandas as pd\n",
    "from sklearn import svm\n",
    "from sklearn.ensemble import RandomForestClassifier\n",
    "from sklearn.linear_model import LogisticRegression\n",
    "from sklearn.model_selection import KFold, GridSearchCV\n",
    "from sklearn.naive_bayes import GaussianNB\n",
    "from sklearn.neural_network import MLPClassifier"
   ],
   "outputs": [],
   "execution_count": 5
  },
  {
   "metadata": {
    "ExecuteTime": {
     "end_time": "2024-06-01T15:40:52.953950Z",
     "start_time": "2024-06-01T15:40:52.908039Z"
    }
   },
   "cell_type": "code",
   "source": [
    "raw_dataset = pd.read_csv('resources/datasets/data.csv', sep='\\t')\n",
    "\n",
    "raw_dataset.head()"
   ],
   "id": "14a1da557637b091",
   "outputs": [
    {
     "data": {
      "text/plain": [
       "    GAME_ID      MATCHUP  OUTCOME  TEAM_ID_home TEAM_ABBREVIATION_home  \\\n",
       "0  22300848  LAC vs. LAL        0    1610612746                    LAC   \n",
       "1  22300995  MIN vs. DEN        0    1610612750                    MIN   \n",
       "2  22300928  ORL vs. IND        0    1610612753                    ORL   \n",
       "3  22301112  NYK vs. SAC        1    1610612752                    NYK   \n",
       "4  22300786  DEN vs. SAC        0    1610612743                    DEN   \n",
       "\n",
       "   FG_PCT_home  FG3_PCT_home  FT_PCT_home  REB_home  OREB_home  ...  \\\n",
       "0     0.535503      0.354497     0.625187  0.224490       0.36  ...   \n",
       "1     0.449704      0.483245     0.544228  0.244898       0.32  ...   \n",
       "2     0.147929      0.319224     0.638681  0.428571       0.52  ...   \n",
       "3     0.665680      0.634921     0.535232  0.285714       0.36  ...   \n",
       "4     0.201183      0.488536     0.796102  0.408163       0.48  ...   \n",
       "\n",
       "   DREB_away  AST_away  STL_away  BLK_away  OFF_RATING_away  DEF_RATING_away  \\\n",
       "0   0.371429  0.592593    0.3125  0.333333         0.502571         0.532857   \n",
       "1   0.571429  0.518519    0.2500  0.066667         0.520566         0.532857   \n",
       "2   0.657143  0.296296    0.2500  0.666667         0.437018         0.300000   \n",
       "3   0.228571  0.518519    0.3125  0.200000         0.470437         0.724286   \n",
       "4   0.571429  0.333333    0.3750  0.333333         0.281491         0.285714   \n",
       "\n",
       "   TS_PCT_away  TOV_away  ELO_away  SENTIMENT_away  \n",
       "0     0.698895      0.60  0.510972        0.000000  \n",
       "1     0.676796      0.70  0.750784        0.000000  \n",
       "2     0.582873      0.45  0.529781        0.432975  \n",
       "3     0.574586      0.65  0.589342        0.569431  \n",
       "4     0.372928      0.55  0.547022        0.436185  \n",
       "\n",
       "[5 rows x 37 columns]"
      ],
      "text/html": [
       "<div>\n",
       "<style scoped>\n",
       "    .dataframe tbody tr th:only-of-type {\n",
       "        vertical-align: middle;\n",
       "    }\n",
       "\n",
       "    .dataframe tbody tr th {\n",
       "        vertical-align: top;\n",
       "    }\n",
       "\n",
       "    .dataframe thead th {\n",
       "        text-align: right;\n",
       "    }\n",
       "</style>\n",
       "<table border=\"1\" class=\"dataframe\">\n",
       "  <thead>\n",
       "    <tr style=\"text-align: right;\">\n",
       "      <th></th>\n",
       "      <th>GAME_ID</th>\n",
       "      <th>MATCHUP</th>\n",
       "      <th>OUTCOME</th>\n",
       "      <th>TEAM_ID_home</th>\n",
       "      <th>TEAM_ABBREVIATION_home</th>\n",
       "      <th>FG_PCT_home</th>\n",
       "      <th>FG3_PCT_home</th>\n",
       "      <th>FT_PCT_home</th>\n",
       "      <th>REB_home</th>\n",
       "      <th>OREB_home</th>\n",
       "      <th>...</th>\n",
       "      <th>DREB_away</th>\n",
       "      <th>AST_away</th>\n",
       "      <th>STL_away</th>\n",
       "      <th>BLK_away</th>\n",
       "      <th>OFF_RATING_away</th>\n",
       "      <th>DEF_RATING_away</th>\n",
       "      <th>TS_PCT_away</th>\n",
       "      <th>TOV_away</th>\n",
       "      <th>ELO_away</th>\n",
       "      <th>SENTIMENT_away</th>\n",
       "    </tr>\n",
       "  </thead>\n",
       "  <tbody>\n",
       "    <tr>\n",
       "      <th>0</th>\n",
       "      <td>22300848</td>\n",
       "      <td>LAC vs. LAL</td>\n",
       "      <td>0</td>\n",
       "      <td>1610612746</td>\n",
       "      <td>LAC</td>\n",
       "      <td>0.535503</td>\n",
       "      <td>0.354497</td>\n",
       "      <td>0.625187</td>\n",
       "      <td>0.224490</td>\n",
       "      <td>0.36</td>\n",
       "      <td>...</td>\n",
       "      <td>0.371429</td>\n",
       "      <td>0.592593</td>\n",
       "      <td>0.3125</td>\n",
       "      <td>0.333333</td>\n",
       "      <td>0.502571</td>\n",
       "      <td>0.532857</td>\n",
       "      <td>0.698895</td>\n",
       "      <td>0.60</td>\n",
       "      <td>0.510972</td>\n",
       "      <td>0.000000</td>\n",
       "    </tr>\n",
       "    <tr>\n",
       "      <th>1</th>\n",
       "      <td>22300995</td>\n",
       "      <td>MIN vs. DEN</td>\n",
       "      <td>0</td>\n",
       "      <td>1610612750</td>\n",
       "      <td>MIN</td>\n",
       "      <td>0.449704</td>\n",
       "      <td>0.483245</td>\n",
       "      <td>0.544228</td>\n",
       "      <td>0.244898</td>\n",
       "      <td>0.32</td>\n",
       "      <td>...</td>\n",
       "      <td>0.571429</td>\n",
       "      <td>0.518519</td>\n",
       "      <td>0.2500</td>\n",
       "      <td>0.066667</td>\n",
       "      <td>0.520566</td>\n",
       "      <td>0.532857</td>\n",
       "      <td>0.676796</td>\n",
       "      <td>0.70</td>\n",
       "      <td>0.750784</td>\n",
       "      <td>0.000000</td>\n",
       "    </tr>\n",
       "    <tr>\n",
       "      <th>2</th>\n",
       "      <td>22300928</td>\n",
       "      <td>ORL vs. IND</td>\n",
       "      <td>0</td>\n",
       "      <td>1610612753</td>\n",
       "      <td>ORL</td>\n",
       "      <td>0.147929</td>\n",
       "      <td>0.319224</td>\n",
       "      <td>0.638681</td>\n",
       "      <td>0.428571</td>\n",
       "      <td>0.52</td>\n",
       "      <td>...</td>\n",
       "      <td>0.657143</td>\n",
       "      <td>0.296296</td>\n",
       "      <td>0.2500</td>\n",
       "      <td>0.666667</td>\n",
       "      <td>0.437018</td>\n",
       "      <td>0.300000</td>\n",
       "      <td>0.582873</td>\n",
       "      <td>0.45</td>\n",
       "      <td>0.529781</td>\n",
       "      <td>0.432975</td>\n",
       "    </tr>\n",
       "    <tr>\n",
       "      <th>3</th>\n",
       "      <td>22301112</td>\n",
       "      <td>NYK vs. SAC</td>\n",
       "      <td>1</td>\n",
       "      <td>1610612752</td>\n",
       "      <td>NYK</td>\n",
       "      <td>0.665680</td>\n",
       "      <td>0.634921</td>\n",
       "      <td>0.535232</td>\n",
       "      <td>0.285714</td>\n",
       "      <td>0.36</td>\n",
       "      <td>...</td>\n",
       "      <td>0.228571</td>\n",
       "      <td>0.518519</td>\n",
       "      <td>0.3125</td>\n",
       "      <td>0.200000</td>\n",
       "      <td>0.470437</td>\n",
       "      <td>0.724286</td>\n",
       "      <td>0.574586</td>\n",
       "      <td>0.65</td>\n",
       "      <td>0.589342</td>\n",
       "      <td>0.569431</td>\n",
       "    </tr>\n",
       "    <tr>\n",
       "      <th>4</th>\n",
       "      <td>22300786</td>\n",
       "      <td>DEN vs. SAC</td>\n",
       "      <td>0</td>\n",
       "      <td>1610612743</td>\n",
       "      <td>DEN</td>\n",
       "      <td>0.201183</td>\n",
       "      <td>0.488536</td>\n",
       "      <td>0.796102</td>\n",
       "      <td>0.408163</td>\n",
       "      <td>0.48</td>\n",
       "      <td>...</td>\n",
       "      <td>0.571429</td>\n",
       "      <td>0.333333</td>\n",
       "      <td>0.3750</td>\n",
       "      <td>0.333333</td>\n",
       "      <td>0.281491</td>\n",
       "      <td>0.285714</td>\n",
       "      <td>0.372928</td>\n",
       "      <td>0.55</td>\n",
       "      <td>0.547022</td>\n",
       "      <td>0.436185</td>\n",
       "    </tr>\n",
       "  </tbody>\n",
       "</table>\n",
       "<p>5 rows × 37 columns</p>\n",
       "</div>"
      ]
     },
     "execution_count": 6,
     "metadata": {},
     "output_type": "execute_result"
    }
   ],
   "execution_count": 6
  },
  {
   "metadata": {
    "ExecuteTime": {
     "end_time": "2024-06-01T15:40:55.792390Z",
     "start_time": "2024-06-01T15:40:55.761094Z"
    }
   },
   "cell_type": "code",
   "source": "dataset = raw_dataset.drop(columns=['GAME_ID', 'MATCHUP', 'TEAM_ID_home', 'TEAM_ABBREVIATION_home','TEAM_ID_away', 'TEAM_ABBREVIATION_away'])",
   "id": "f7882de63513c69b",
   "outputs": [],
   "execution_count": 7
  },
  {
   "metadata": {
    "ExecuteTime": {
     "end_time": "2024-06-01T15:40:57.806707Z",
     "start_time": "2024-06-01T15:40:57.791405Z"
    }
   },
   "cell_type": "code",
   "source": [
    "train_dataset = dataset.sample(frac=0.9, random_state=0)\n",
    "test_dataset = dataset.drop(train_dataset.index)"
   ],
   "id": "7fae5f3accdc149e",
   "outputs": [],
   "execution_count": 8
  },
  {
   "metadata": {
    "ExecuteTime": {
     "end_time": "2024-06-01T15:40:59.450128Z",
     "start_time": "2024-06-01T15:40:59.434061Z"
    }
   },
   "cell_type": "code",
   "source": [
    "train_features = train_dataset.copy()\n",
    "test_features = test_dataset.copy()\n",
    "\n",
    "train_labels = train_features.pop('OUTCOME')\n",
    "test_labels = test_features.pop('OUTCOME')"
   ],
   "id": "2b4b9822ca05eb3c",
   "outputs": [],
   "execution_count": 9
  },
  {
   "metadata": {},
   "cell_type": "markdown",
   "source": "# Models",
   "id": "6f99ca3395f5dadd"
  },
  {
   "metadata": {
    "ExecuteTime": {
     "end_time": "2024-06-01T15:41:01.002301Z",
     "start_time": "2024-06-01T15:41:00.986760Z"
    }
   },
   "cell_type": "code",
   "source": [
    "models = {\n",
    "    \"mlp\": MLPClassifier(max_iter=5000),\n",
    "    \"svm\": svm.SVC(),\n",
    "    \"lgr\": LogisticRegression(),\n",
    "    \"rf\": RandomForestClassifier(),\n",
    "    \"gnb\": GaussianNB(),\n",
    "}"
   ],
   "id": "bc5c35c5b839720e",
   "outputs": [],
   "execution_count": 10
  },
  {
   "metadata": {},
   "cell_type": "markdown",
   "source": "# Hyper tuning ",
   "id": "9cf87628e81f79ca"
  },
  {
   "metadata": {
    "ExecuteTime": {
     "end_time": "2024-06-01T15:41:03.180073Z",
     "start_time": "2024-06-01T15:41:03.164446Z"
    }
   },
   "cell_type": "code",
   "source": [
    "def hypertune(x, y, model, grid):\n",
    "    cv = KFold(n_splits=10)\n",
    "    grid_search = GridSearchCV(estimator=model, param_grid=grid, n_jobs=-1, cv=cv, scoring='accuracy', error_score=0, verbose=2)\n",
    "    grid_result = grid_search.fit(x, y)\n",
    "    means = grid_result.cv_results_['mean_test_score']\n",
    "    params = grid_result.cv_results_['params']\n",
    "    return zip(means, params)"
   ],
   "id": "f4fb9ebf14593997",
   "outputs": [],
   "execution_count": 11
  },
  {
   "metadata": {},
   "cell_type": "markdown",
   "source": "## MLP parameters",
   "id": "7b4e5100eb2ca4c0"
  },
  {
   "metadata": {
    "ExecuteTime": {
     "end_time": "2024-06-01T15:41:05.637259Z",
     "start_time": "2024-06-01T15:41:05.621661Z"
    }
   },
   "cell_type": "code",
   "source": [
    "def hiddenLayer_generator():\n",
    "    result = []\n",
    "    for i in range(1,5):\n",
    "        for no_layers in range(1,11):\n",
    "            layers = []\n",
    "            for _ in range(no_layers):\n",
    "                layers.append((len(train_dataset.columns) + 1)/2 *  2 * i )\n",
    "            result.append(layers)\n",
    "    return result"
   ],
   "id": "e85b878f84055c0a",
   "outputs": [],
   "execution_count": 12
  },
  {
   "metadata": {
    "ExecuteTime": {
     "end_time": "2024-06-01T15:41:07.310075Z",
     "start_time": "2024-06-01T15:41:07.294462Z"
    }
   },
   "cell_type": "code",
   "source": [
    "activation = ['logistic', 'tanh', 'relu']\n",
    "solver = ['sgd', 'adam']\n",
    "\n",
    "alpha = [10**i for i in range(-5,6)]\n",
    "learning_rate_init = [1e-1, 1e-2, 1e-3, 1e-4]\n",
    "learning_rate = ['adaptive', 'invscaling']\n",
    "\n",
    "hidden_layer_sizes = hiddenLayer_generator()\n",
    "mlp_grid = dict(\n",
    "    hidden_layer_sizes=hidden_layer_sizes,\n",
    "    activation=activation,\n",
    "    solver=solver,\n",
    "    alpha=alpha,\n",
    "    learning_rate=learning_rate,\n",
    "    learning_rate_init = learning_rate_init\n",
    ")"
   ],
   "id": "207a67bf208af751",
   "outputs": [],
   "execution_count": 13
  },
  {
   "metadata": {
    "ExecuteTime": {
     "end_time": "2024-06-01T15:42:35.562411Z",
     "start_time": "2024-06-01T15:42:14.786641Z"
    }
   },
   "cell_type": "code",
   "source": [
    "with open('resources/models/hyper-tuning/deep-neural-network.tsv', 'x') as file:\n",
    "    file.write(f'hidden_layer_sizes\\tactivation\\tsolver\\talpha\\tlearning_rate\\tlearning_rate_init\\taccuracy\\n')\n",
    "    combinations = hypertune(train_features, train_labels, models[\"mlp\"], mlp_grid)\n",
    "    for mean, param in combinations:\n",
    "        hidden_layer_sizes = param['hidden_layer_sizes']\n",
    "        activation = param[\"activation\"]\n",
    "        solver = param[\"solver\"]\n",
    "        alpha = param[\"alpha\"]\n",
    "        learning_rate = param[\"learning_rate\"]\n",
    "        learning_rate_init = param[\"learning_rate_init\"]\n",
    "\n",
    "        file.write(f\"{hidden_layer_sizes}\\t{activation}\\t{solver}\\t{alpha}\\t{learning_rate}\\t{learning_rate_init}\\t{round(mean,5)}\\n\")"
   ],
   "id": "895fadbe3632fb52",
   "outputs": [
    {
     "name": "stdout",
     "output_type": "stream",
     "text": [
      "Fitting 10 folds for each of 126720 candidates, totalling 1267200 fits\n"
     ]
    },
    {
     "name": "stderr",
     "output_type": "stream",
     "text": [
      "\n",
      "KeyboardInterrupt\n",
      "\n"
     ]
    }
   ],
   "execution_count": 16
  },
  {
   "metadata": {},
   "cell_type": "markdown",
   "source": "## SVM parameters",
   "id": "22f4e5ab0bacecb6"
  },
  {
   "metadata": {
    "ExecuteTime": {
     "end_time": "2024-06-01T10:44:03.787459Z",
     "start_time": "2024-06-01T10:44:03.771823Z"
    }
   },
   "cell_type": "code",
   "source": [
    "kernel = ['linear', 'poly', 'rbf', 'sigmoid']\n",
    "C = [1000, 100, 50, 10, 1.0, 0.1, 0.01]\n",
    "degree = range(1,20)\n",
    "svm_grid = dict(kernel=kernel,C=C,degree=degree)"
   ],
   "id": "49faf0c3a18fce44",
   "outputs": [],
   "execution_count": 12
  },
  {
   "metadata": {
    "ExecuteTime": {
     "end_time": "2024-06-01T08:17:11.213658Z",
     "start_time": "2024-06-01T08:16:53.872075Z"
    }
   },
   "cell_type": "code",
   "source": [
    "with open('resources/models/hyper-tuning/svm.tsv', 'x') as file:\n",
    "    file.write(f'C\\tkernel\\tdegree\\taccuracy\\n')\n",
    "    combinations = hypertune(train_features, train_labels, models[\"svm\"], svm_grid)\n",
    "    for mean, param in combinations:\n",
    "        c,degree, kernel = param[\"C\"], param[\"degree\"], param[\"kernel\"]\n",
    "        if kernel != \"poly\":\n",
    "            degree = \"-\"\n",
    "        file.write(f\"{c}\\t{kernel}\\t{degree}\\t{round(mean,5)}\\n\")"
   ],
   "id": "1b968fe54e5ab213",
   "outputs": [],
   "execution_count": 24
  },
  {
   "metadata": {},
   "cell_type": "markdown",
   "source": "## Logistic regression parameters",
   "id": "a76ac6a34106d493"
  },
  {
   "metadata": {
    "ExecuteTime": {
     "end_time": "2024-06-01T08:18:03.888149Z",
     "start_time": "2024-06-01T08:18:03.872493Z"
    }
   },
   "cell_type": "code",
   "source": [
    "penalty1 = ['l1']\n",
    "solvers1 = ['saga', 'liblinear']\n",
    "c_values1 = [100, 10, 1.0, 0.1, 0.01]\n",
    "lgr_grid1 = dict(solver=solvers1, penalty=penalty1, C=c_values1)\n",
    "\n",
    "penalty2 = ['l2']\n",
    "solvers2 = ['lbfgs', 'liblinear', 'newton-cg', 'newton-cholesky', 'sag', 'saga']\n",
    "c_values2 = [100, 10, 1.0, 0.1, 0.01]\n",
    "lgr_grid2 = dict(solver=solvers2, penalty=penalty2, C=c_values2)"
   ],
   "id": "ee08bd4e61156b60",
   "outputs": [],
   "execution_count": 26
  },
  {
   "metadata": {
    "ExecuteTime": {
     "end_time": "2024-06-01T08:19:54.356714Z",
     "start_time": "2024-06-01T08:19:52.175020Z"
    }
   },
   "cell_type": "code",
   "source": [
    "with open('resources/models/hyper-tuning/logistic-regression.tsv', 'x') as file:\n",
    "    file.write(f'C\\tregularization\\tsolver\\taccuracy\\n')\n",
    "    combinations1 = hypertune(train_features, train_labels, models[\"lgr\"], lgr_grid1)\n",
    "    for mean, param in combinations1:\n",
    "        c, penalty ,solver = param[\"C\"], param[\"penalty\"], param[\"solver\"]\n",
    "        file.write(f\"{c}\\t{penalty}\\t{solver}\\t{round(mean,5)}\\n\")\n",
    "        \n",
    "    combinations2 = hypertune(train_features, train_labels, models[\"lgr\"], lgr_grid2)\n",
    "    for mean, param in combinations2:\n",
    "        c, penalty ,solver = param[\"C\"], param[\"penalty\"], param[\"solver\"]\n",
    "        file.write(f\"{c}\\t{penalty}\\t{solver}\\t{round(mean,5)}\\n\")"
   ],
   "id": "992b90c5860cf9e7",
   "outputs": [],
   "execution_count": 32
  },
  {
   "metadata": {},
   "cell_type": "markdown",
   "source": "## Random forest parameters",
   "id": "8fbc6d3ef48cc549"
  },
  {
   "metadata": {
    "ExecuteTime": {
     "end_time": "2024-06-01T15:35:56.989414Z",
     "start_time": "2024-06-01T15:35:56.958226Z"
    }
   },
   "cell_type": "code",
   "source": [
    "n_estimators = range(1,101)\n",
    "max_features = range(1, 31)\n",
    "\n",
    "max_depth = [int(x) for x in np.linspace(10, 110, num = 11)] + [None]\n",
    "min_samples_split = range(1,11)\n",
    "min_samples_leaf = range(1,5)\n",
    "bootstrap = [True, False]\n",
    "\n",
    "\n",
    "rf_grid = dict(n_estimators=n_estimators, max_features=max_features, max_depth=max_depth, min_samples_split=min_samples_split, bootstrap=bootstrap)"
   ],
   "id": "a02d81438cb7ca1c",
   "outputs": [
    {
     "ename": "NameError",
     "evalue": "name 'np' is not defined",
     "output_type": "error",
     "traceback": [
      "\u001B[1;31m---------------------------------------------------------------------------\u001B[0m",
      "\u001B[1;31mNameError\u001B[0m                                 Traceback (most recent call last)",
      "Cell \u001B[1;32mIn[3], line 4\u001B[0m\n\u001B[0;32m      1\u001B[0m n_estimators \u001B[38;5;241m=\u001B[39m \u001B[38;5;28mrange\u001B[39m(\u001B[38;5;241m1\u001B[39m,\u001B[38;5;241m101\u001B[39m)\n\u001B[0;32m      2\u001B[0m max_features \u001B[38;5;241m=\u001B[39m \u001B[38;5;28mrange\u001B[39m(\u001B[38;5;241m1\u001B[39m, \u001B[38;5;241m31\u001B[39m)\n\u001B[1;32m----> 4\u001B[0m max_depth \u001B[38;5;241m=\u001B[39m [\u001B[38;5;28mint\u001B[39m(x) \u001B[38;5;28;01mfor\u001B[39;00m x \u001B[38;5;129;01min\u001B[39;00m \u001B[43mnp\u001B[49m\u001B[38;5;241m.\u001B[39mlinspace(\u001B[38;5;241m10\u001B[39m, \u001B[38;5;241m110\u001B[39m, num \u001B[38;5;241m=\u001B[39m \u001B[38;5;241m11\u001B[39m)] \u001B[38;5;241m+\u001B[39m [\u001B[38;5;28;01mNone\u001B[39;00m]\n\u001B[0;32m      5\u001B[0m min_samples_split \u001B[38;5;241m=\u001B[39m \u001B[38;5;28mrange\u001B[39m(\u001B[38;5;241m1\u001B[39m,\u001B[38;5;241m11\u001B[39m)\n\u001B[0;32m      6\u001B[0m min_samples_leaf \u001B[38;5;241m=\u001B[39m \u001B[38;5;28mrange\u001B[39m(\u001B[38;5;241m1\u001B[39m,\u001B[38;5;241m5\u001B[39m)\n",
      "\u001B[1;31mNameError\u001B[0m: name 'np' is not defined"
     ]
    }
   ],
   "execution_count": 3
  },
  {
   "metadata": {
    "jupyter": {
     "is_executing": true
    },
    "ExecuteTime": {
     "start_time": "2024-06-01T10:50:55.886452Z"
    }
   },
   "cell_type": "code",
   "source": [
    "with open('resources/models/hyper-tuning/random-forest.tsv', 'x') as file:\n",
    "    file.write(f'n_estimators\\tmax_features\\tmax_depth\\tmin_samples_split\\tmin_samples_leaf\\tbagging\\taccuracy\\n')\n",
    "    combinations = hypertune(train_features, train_labels, models[\"rf\"], rf_grid)\n",
    "    for mean, param in combinations:\n",
    "        n_estimators = param[\"n_estimators\"]\n",
    "        max_features = param[\"max_features\"]\n",
    "        max_depth = param[\"max_depth\"]\n",
    "        min_samples_split = param[\"min_samples_split\"]\n",
    "        min_samples_leaf = param[\"min_samples_leaf\"]\n",
    "        bootstrap = param[\"bootstrap\"]\n",
    "        \n",
    "        file.write(f\"{n_estimators}\\t{max_features}\\t{max_depth}\\t{min_samples_split}\\t{min_samples_leaf}\\t{bootstrap}\\t{round(mean,5)}\\n\")"
   ],
   "id": "846a576c90fba5fe",
   "outputs": [],
   "execution_count": null
  },
  {
   "metadata": {},
   "cell_type": "markdown",
   "source": "## Naive Bayes parameters",
   "id": "a68c838972b6bfc6"
  },
  {
   "metadata": {
    "ExecuteTime": {
     "end_time": "2024-06-01T10:44:11.537409Z",
     "start_time": "2024-06-01T10:44:11.506130Z"
    }
   },
   "cell_type": "code",
   "source": [
    "var_smoothing = [10**i for i in range(-11, -7)]\n",
    "gnb_grid = dict(var_smoothing=var_smoothing)"
   ],
   "id": "cf8ab8e2eadcbfb1",
   "outputs": [],
   "execution_count": 14
  },
  {
   "metadata": {
    "ExecuteTime": {
     "end_time": "2024-06-01T10:44:16.522914Z",
     "start_time": "2024-06-01T10:44:12.645757Z"
    }
   },
   "cell_type": "code",
   "source": [
    "with open('resources/models/hyper-tuning/gaussian-naive-bayes.tsv', 'x') as file:\n",
    "    file.write(f'var_smoothing\\taccuracy\\n')\n",
    "    combinations = hypertune(train_features, train_labels, models[\"gnb\"], gnb_grid)\n",
    "    for mean, param in combinations:\n",
    "        var_smoothing = param[\"var_smoothing\"]\n",
    "        file.write(f\"{var_smoothing}\\t{round(mean,5)}\\n\")"
   ],
   "id": "ef0a58e37df96f47",
   "outputs": [
    {
     "name": "stdout",
     "output_type": "stream",
     "text": [
      "Fitting 10 folds for each of 4 candidates, totalling 40 fits\n"
     ]
    }
   ],
   "execution_count": 15
  }
 ],
 "metadata": {
  "kernelspec": {
   "display_name": "Python 3",
   "language": "python",
   "name": "python3"
  },
  "language_info": {
   "codemirror_mode": {
    "name": "ipython",
    "version": 2
   },
   "file_extension": ".py",
   "mimetype": "text/x-python",
   "name": "python",
   "nbconvert_exporter": "python",
   "pygments_lexer": "ipython2",
   "version": "2.7.6"
  }
 },
 "nbformat": 4,
 "nbformat_minor": 5
}
