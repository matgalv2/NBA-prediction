{
 "cells": [
  {
   "cell_type": "code",
   "id": "initial_id",
   "metadata": {
    "collapsed": true,
    "ExecuteTime": {
     "end_time": "2024-06-06T16:29:02.639834Z",
     "start_time": "2024-06-06T16:29:02.624172Z"
    }
   },
   "source": [
    "import numpy as np\n",
    "import pandas as pd\n",
    "from sklearn import svm\n",
    "from sklearn.ensemble import RandomForestClassifier\n",
    "from sklearn.linear_model import LogisticRegression\n",
    "from sklearn.metrics import accuracy_score\n",
    "from sklearn.model_selection import KFold, GridSearchCV\n",
    "from sklearn.naive_bayes import GaussianNB\n",
    "from sklearn.neural_network import MLPClassifier\n",
    "\n",
    "import utils"
   ],
   "outputs": [],
   "execution_count": 6
  },
  {
   "metadata": {
    "ExecuteTime": {
     "end_time": "2024-06-06T16:26:21.877411Z",
     "start_time": "2024-06-06T16:26:21.832974Z"
    }
   },
   "cell_type": "code",
   "source": [
    "raw_dataset = pd.read_csv('resources/datasets/data.csv', sep='\\t')\n",
    "\n",
    "raw_dataset.head()"
   ],
   "id": "14a1da557637b091",
   "outputs": [
    {
     "data": {
      "text/plain": [
       "    GAME_ID      MATCHUP  OUTCOME  TEAM_ID_home TEAM_ABBREVIATION_home  \\\n",
       "0  22300848  LAC vs. LAL        0    1610612746                    LAC   \n",
       "1  22300995  MIN vs. DEN        0    1610612750                    MIN   \n",
       "2  22300928  ORL vs. IND        0    1610612753                    ORL   \n",
       "3  22301112  NYK vs. SAC        1    1610612752                    NYK   \n",
       "4  22300786  DEN vs. SAC        0    1610612743                    DEN   \n",
       "\n",
       "   FG_PCT_home  FG3_PCT_home  FT_PCT_home  REB_home  OREB_home  ...  \\\n",
       "0        0.506         0.270        0.750        36          9  ...   \n",
       "1        0.477         0.343        0.696        37          8  ...   \n",
       "2        0.375         0.250        0.759        46         13  ...   \n",
       "3        0.550         0.429        0.690        39          9  ...   \n",
       "4        0.393         0.346        0.864        45         12  ...   \n",
       "\n",
       "   DREB_away  AST_away  STL_away  BLK_away  OFF_RATING_away  DEF_RATING_away  \\\n",
       "0         31        28         6         5            117.2            114.3   \n",
       "1         38        26         5         1            118.6            114.3   \n",
       "2         41        20         5        10            112.1             98.0   \n",
       "3         26        26         6         3            114.7            127.7   \n",
       "4         38        21         7         5            100.0             97.0   \n",
       "\n",
       "   TS_PCT_away  TOV_away  ELO_away  SENTIMENT_away  \n",
       "0        0.642        15    1465.0        0.000000  \n",
       "1        0.634        17    1618.0        0.000000  \n",
       "2        0.600        12    1477.0        0.408076  \n",
       "3        0.597        16    1515.0        0.536685  \n",
       "4        0.524        14    1488.0        0.411101  \n",
       "\n",
       "[5 rows x 37 columns]"
      ],
      "text/html": [
       "<div>\n",
       "<style scoped>\n",
       "    .dataframe tbody tr th:only-of-type {\n",
       "        vertical-align: middle;\n",
       "    }\n",
       "\n",
       "    .dataframe tbody tr th {\n",
       "        vertical-align: top;\n",
       "    }\n",
       "\n",
       "    .dataframe thead th {\n",
       "        text-align: right;\n",
       "    }\n",
       "</style>\n",
       "<table border=\"1\" class=\"dataframe\">\n",
       "  <thead>\n",
       "    <tr style=\"text-align: right;\">\n",
       "      <th></th>\n",
       "      <th>GAME_ID</th>\n",
       "      <th>MATCHUP</th>\n",
       "      <th>OUTCOME</th>\n",
       "      <th>TEAM_ID_home</th>\n",
       "      <th>TEAM_ABBREVIATION_home</th>\n",
       "      <th>FG_PCT_home</th>\n",
       "      <th>FG3_PCT_home</th>\n",
       "      <th>FT_PCT_home</th>\n",
       "      <th>REB_home</th>\n",
       "      <th>OREB_home</th>\n",
       "      <th>...</th>\n",
       "      <th>DREB_away</th>\n",
       "      <th>AST_away</th>\n",
       "      <th>STL_away</th>\n",
       "      <th>BLK_away</th>\n",
       "      <th>OFF_RATING_away</th>\n",
       "      <th>DEF_RATING_away</th>\n",
       "      <th>TS_PCT_away</th>\n",
       "      <th>TOV_away</th>\n",
       "      <th>ELO_away</th>\n",
       "      <th>SENTIMENT_away</th>\n",
       "    </tr>\n",
       "  </thead>\n",
       "  <tbody>\n",
       "    <tr>\n",
       "      <th>0</th>\n",
       "      <td>22300848</td>\n",
       "      <td>LAC vs. LAL</td>\n",
       "      <td>0</td>\n",
       "      <td>1610612746</td>\n",
       "      <td>LAC</td>\n",
       "      <td>0.506</td>\n",
       "      <td>0.270</td>\n",
       "      <td>0.750</td>\n",
       "      <td>36</td>\n",
       "      <td>9</td>\n",
       "      <td>...</td>\n",
       "      <td>31</td>\n",
       "      <td>28</td>\n",
       "      <td>6</td>\n",
       "      <td>5</td>\n",
       "      <td>117.2</td>\n",
       "      <td>114.3</td>\n",
       "      <td>0.642</td>\n",
       "      <td>15</td>\n",
       "      <td>1465.0</td>\n",
       "      <td>0.000000</td>\n",
       "    </tr>\n",
       "    <tr>\n",
       "      <th>1</th>\n",
       "      <td>22300995</td>\n",
       "      <td>MIN vs. DEN</td>\n",
       "      <td>0</td>\n",
       "      <td>1610612750</td>\n",
       "      <td>MIN</td>\n",
       "      <td>0.477</td>\n",
       "      <td>0.343</td>\n",
       "      <td>0.696</td>\n",
       "      <td>37</td>\n",
       "      <td>8</td>\n",
       "      <td>...</td>\n",
       "      <td>38</td>\n",
       "      <td>26</td>\n",
       "      <td>5</td>\n",
       "      <td>1</td>\n",
       "      <td>118.6</td>\n",
       "      <td>114.3</td>\n",
       "      <td>0.634</td>\n",
       "      <td>17</td>\n",
       "      <td>1618.0</td>\n",
       "      <td>0.000000</td>\n",
       "    </tr>\n",
       "    <tr>\n",
       "      <th>2</th>\n",
       "      <td>22300928</td>\n",
       "      <td>ORL vs. IND</td>\n",
       "      <td>0</td>\n",
       "      <td>1610612753</td>\n",
       "      <td>ORL</td>\n",
       "      <td>0.375</td>\n",
       "      <td>0.250</td>\n",
       "      <td>0.759</td>\n",
       "      <td>46</td>\n",
       "      <td>13</td>\n",
       "      <td>...</td>\n",
       "      <td>41</td>\n",
       "      <td>20</td>\n",
       "      <td>5</td>\n",
       "      <td>10</td>\n",
       "      <td>112.1</td>\n",
       "      <td>98.0</td>\n",
       "      <td>0.600</td>\n",
       "      <td>12</td>\n",
       "      <td>1477.0</td>\n",
       "      <td>0.408076</td>\n",
       "    </tr>\n",
       "    <tr>\n",
       "      <th>3</th>\n",
       "      <td>22301112</td>\n",
       "      <td>NYK vs. SAC</td>\n",
       "      <td>1</td>\n",
       "      <td>1610612752</td>\n",
       "      <td>NYK</td>\n",
       "      <td>0.550</td>\n",
       "      <td>0.429</td>\n",
       "      <td>0.690</td>\n",
       "      <td>39</td>\n",
       "      <td>9</td>\n",
       "      <td>...</td>\n",
       "      <td>26</td>\n",
       "      <td>26</td>\n",
       "      <td>6</td>\n",
       "      <td>3</td>\n",
       "      <td>114.7</td>\n",
       "      <td>127.7</td>\n",
       "      <td>0.597</td>\n",
       "      <td>16</td>\n",
       "      <td>1515.0</td>\n",
       "      <td>0.536685</td>\n",
       "    </tr>\n",
       "    <tr>\n",
       "      <th>4</th>\n",
       "      <td>22300786</td>\n",
       "      <td>DEN vs. SAC</td>\n",
       "      <td>0</td>\n",
       "      <td>1610612743</td>\n",
       "      <td>DEN</td>\n",
       "      <td>0.393</td>\n",
       "      <td>0.346</td>\n",
       "      <td>0.864</td>\n",
       "      <td>45</td>\n",
       "      <td>12</td>\n",
       "      <td>...</td>\n",
       "      <td>38</td>\n",
       "      <td>21</td>\n",
       "      <td>7</td>\n",
       "      <td>5</td>\n",
       "      <td>100.0</td>\n",
       "      <td>97.0</td>\n",
       "      <td>0.524</td>\n",
       "      <td>14</td>\n",
       "      <td>1488.0</td>\n",
       "      <td>0.411101</td>\n",
       "    </tr>\n",
       "  </tbody>\n",
       "</table>\n",
       "<p>5 rows × 37 columns</p>\n",
       "</div>"
      ]
     },
     "execution_count": 2,
     "metadata": {},
     "output_type": "execute_result"
    }
   ],
   "execution_count": 2
  },
  {
   "metadata": {
    "ExecuteTime": {
     "end_time": "2024-06-05T12:07:45.830617Z",
     "start_time": "2024-06-05T12:07:45.823441Z"
    }
   },
   "cell_type": "code",
   "source": "# dataset = raw_dataset.drop(columns=['GAME_ID', 'MATCHUP', 'TEAM_ID_home', 'TEAM_ABBREVIATION_home','TEAM_ID_away', 'TEAM_ABBREVIATION_away'])",
   "id": "f7882de63513c69b",
   "outputs": [],
   "execution_count": 3
  },
  {
   "metadata": {},
   "cell_type": "code",
   "outputs": [],
   "execution_count": null,
   "source": [
    "# attributes_to_be_normalized = [\n",
    "#     'FG_PCT_home',\n",
    "#     'FG3_PCT_home', 'FT_PCT_home', 'REB_home', 'OREB_home', 'DREB_home', 'AST_home','STL_home',\n",
    "#     'BLK_home', 'OFF_RATING_home', 'DEF_RATING_home', 'TS_PCT_home', 'TOV_home', 'ELO_home',\n",
    "#     \"SENTIMENT_home\", 'FG_PCT_away', 'FG3_PCT_away',\n",
    "#     'FT_PCT_away', 'REB_away', 'OREB_away', 'DREB_away', 'AST_away', 'STL_away', 'BLK_away',\n",
    "#     'OFF_RATING_away', 'DEF_RATING_away', 'TS_PCT_away', 'TOV_away', 'ELO_away', \"SENTIMENT_away\"\n",
    "# ]\n",
    "# \n",
    "# dataset[attributes_to_be_normalized] = StandardScaler().fit_transform(dataset[attributes_to_be_normalized])\n"
   ],
   "id": "1b422539f1afafd0"
  },
  {
   "metadata": {
    "ExecuteTime": {
     "end_time": "2024-06-06T16:26:28.777470Z",
     "start_time": "2024-06-06T16:26:24.781359Z"
    }
   },
   "cell_type": "code",
   "source": [
    "attributes_to_be_normalized = [\n",
    "    'FG_PCT_home',\n",
    "    'FG3_PCT_home', 'FT_PCT_home', 'REB_home', 'OREB_home', 'DREB_home', 'AST_home','STL_home',\n",
    "    'BLK_home', 'OFF_RATING_home', 'DEF_RATING_home', 'TS_PCT_home', 'TOV_home', 'ELO_home',\n",
    "    \"SENTIMENT_home\", 'FG_PCT_away', 'FG3_PCT_away',\n",
    "    'FT_PCT_away', 'REB_away', 'OREB_away', 'DREB_away', 'AST_away', 'STL_away', 'BLK_away',\n",
    "    'OFF_RATING_away', 'DEF_RATING_away', 'TS_PCT_away', 'TOV_away', 'ELO_away', \"SENTIMENT_away\"\n",
    "]\n",
    "\n",
    "columns_to_be_dropped = ['GAME_ID', 'MATCHUP','TEAM_ID_home','TEAM_ABBREVIATION_home',\n",
    "                         'TEAM_ID_away','TEAM_ABBREVIATION_away']\n",
    "\n",
    "\n",
    "train_raw_dataset = raw_dataset.sample(frac=0.9, random_state=0)\n",
    "test_raw_dataset = raw_dataset.drop(train_raw_dataset.index)\n",
    "\n",
    "test_raw_dataset_rebased = utils.calculateAverageStatisticsForLast3Games(test_raw_dataset)\n",
    "\n",
    "raw_dataset.loc[test_raw_dataset_rebased.index] = test_raw_dataset_rebased\n",
    "\n",
    "\n",
    "dataset = utils.normalizeHomeAndAwayTeamsTogether(raw_dataset).drop(columns=columns_to_be_dropped)\n",
    "\n",
    "test_dataset = dataset.loc[test_raw_dataset_rebased.index]\n",
    "train_dataset = dataset.drop(test_dataset.index)\n",
    "\n",
    "train_features = train_dataset.copy()\n",
    "test_features = test_dataset.copy()\n",
    "\n",
    "train_labels = train_features.pop('OUTCOME')\n",
    "test_labels = test_features.pop('OUTCOME')"
   ],
   "id": "a0ce94dcc9ab5046",
   "outputs": [
    {
     "name": "stderr",
     "output_type": "stream",
     "text": [
      "X:\\ProgramFiles\\JetBrains\\PycharmProjects\\NBA-predictor\\utils.py:55: UserWarning: Boolean Series key will be reindexed to match DataFrame index.\n",
      "  lastGames = df[df[\"GAME_ID\"].isin(gameIDs)][df[\"TEAM_ID\"] == teamID]\n",
      "X:\\ProgramFiles\\JetBrains\\PycharmProjects\\NBA-predictor\\utils.py:76: FutureWarning: Setting an item of incompatible dtype is deprecated and will raise an error in a future version of pandas. Value '8.666666666666666' has dtype incompatible with int64, please explicitly cast to a compatible dtype first.\n",
      "  test_games.at[index, key + \"_home\"] = value\n",
      "X:\\ProgramFiles\\JetBrains\\PycharmProjects\\NBA-predictor\\utils.py:76: FutureWarning: Setting an item of incompatible dtype is deprecated and will raise an error in a future version of pandas. Value '33.333333333333336' has dtype incompatible with int64, please explicitly cast to a compatible dtype first.\n",
      "  test_games.at[index, key + \"_home\"] = value\n",
      "X:\\ProgramFiles\\JetBrains\\PycharmProjects\\NBA-predictor\\utils.py:76: FutureWarning: Setting an item of incompatible dtype is deprecated and will raise an error in a future version of pandas. Value '23.333333333333332' has dtype incompatible with int64, please explicitly cast to a compatible dtype first.\n",
      "  test_games.at[index, key + \"_home\"] = value\n",
      "X:\\ProgramFiles\\JetBrains\\PycharmProjects\\NBA-predictor\\utils.py:76: FutureWarning: Setting an item of incompatible dtype is deprecated and will raise an error in a future version of pandas. Value '3.3333333333333335' has dtype incompatible with int64, please explicitly cast to a compatible dtype first.\n",
      "  test_games.at[index, key + \"_home\"] = value\n",
      "X:\\ProgramFiles\\JetBrains\\PycharmProjects\\NBA-predictor\\utils.py:55: UserWarning: Boolean Series key will be reindexed to match DataFrame index.\n",
      "  lastGames = df[df[\"GAME_ID\"].isin(gameIDs)][df[\"TEAM_ID\"] == teamID]\n",
      "X:\\ProgramFiles\\JetBrains\\PycharmProjects\\NBA-predictor\\utils.py:83: FutureWarning: Setting an item of incompatible dtype is deprecated and will raise an error in a future version of pandas. Value '45.666666666666664' has dtype incompatible with int64, please explicitly cast to a compatible dtype first.\n",
      "  test_games.at[index, key + \"_away\"] = value\n",
      "X:\\ProgramFiles\\JetBrains\\PycharmProjects\\NBA-predictor\\utils.py:83: FutureWarning: Setting an item of incompatible dtype is deprecated and will raise an error in a future version of pandas. Value '35.666666666666664' has dtype incompatible with int64, please explicitly cast to a compatible dtype first.\n",
      "  test_games.at[index, key + \"_away\"] = value\n",
      "X:\\ProgramFiles\\JetBrains\\PycharmProjects\\NBA-predictor\\utils.py:83: FutureWarning: Setting an item of incompatible dtype is deprecated and will raise an error in a future version of pandas. Value '27.666666666666668' has dtype incompatible with int64, please explicitly cast to a compatible dtype first.\n",
      "  test_games.at[index, key + \"_away\"] = value\n",
      "X:\\ProgramFiles\\JetBrains\\PycharmProjects\\NBA-predictor\\utils.py:83: FutureWarning: Setting an item of incompatible dtype is deprecated and will raise an error in a future version of pandas. Value '4.666666666666667' has dtype incompatible with int64, please explicitly cast to a compatible dtype first.\n",
      "  test_games.at[index, key + \"_away\"] = value\n",
      "X:\\ProgramFiles\\JetBrains\\PycharmProjects\\NBA-predictor\\utils.py:83: FutureWarning: Setting an item of incompatible dtype is deprecated and will raise an error in a future version of pandas. Value '6.666666666666667' has dtype incompatible with int64, please explicitly cast to a compatible dtype first.\n",
      "  test_games.at[index, key + \"_away\"] = value\n",
      "X:\\ProgramFiles\\JetBrains\\PycharmProjects\\NBA-predictor\\utils.py:83: FutureWarning: Setting an item of incompatible dtype is deprecated and will raise an error in a future version of pandas. Value '14.666666666666666' has dtype incompatible with int64, please explicitly cast to a compatible dtype first.\n",
      "  test_games.at[index, key + \"_away\"] = value\n",
      "X:\\ProgramFiles\\JetBrains\\PycharmProjects\\NBA-predictor\\utils.py:55: UserWarning: Boolean Series key will be reindexed to match DataFrame index.\n",
      "  lastGames = df[df[\"GAME_ID\"].isin(gameIDs)][df[\"TEAM_ID\"] == teamID]\n",
      "X:\\ProgramFiles\\JetBrains\\PycharmProjects\\NBA-predictor\\utils.py:76: FutureWarning: Setting an item of incompatible dtype is deprecated and will raise an error in a future version of pandas. Value '43.333333333333336' has dtype incompatible with int64, please explicitly cast to a compatible dtype first.\n",
      "  test_games.at[index, key + \"_home\"] = value\n",
      "X:\\ProgramFiles\\JetBrains\\PycharmProjects\\NBA-predictor\\utils.py:76: FutureWarning: Setting an item of incompatible dtype is deprecated and will raise an error in a future version of pandas. Value '5.666666666666667' has dtype incompatible with int64, please explicitly cast to a compatible dtype first.\n",
      "  test_games.at[index, key + \"_home\"] = value\n",
      "X:\\ProgramFiles\\JetBrains\\PycharmProjects\\NBA-predictor\\utils.py:76: FutureWarning: Setting an item of incompatible dtype is deprecated and will raise an error in a future version of pandas. Value '11.333333333333334' has dtype incompatible with int64, please explicitly cast to a compatible dtype first.\n",
      "  test_games.at[index, key + \"_home\"] = value\n",
      "X:\\ProgramFiles\\JetBrains\\PycharmProjects\\NBA-predictor\\utils.py:55: UserWarning: Boolean Series key will be reindexed to match DataFrame index.\n",
      "  lastGames = df[df[\"GAME_ID\"].isin(gameIDs)][df[\"TEAM_ID\"] == teamID]\n",
      "X:\\ProgramFiles\\JetBrains\\PycharmProjects\\NBA-predictor\\utils.py:55: UserWarning: Boolean Series key will be reindexed to match DataFrame index.\n",
      "  lastGames = df[df[\"GAME_ID\"].isin(gameIDs)][df[\"TEAM_ID\"] == teamID]\n",
      "X:\\ProgramFiles\\JetBrains\\PycharmProjects\\NBA-predictor\\utils.py:55: UserWarning: Boolean Series key will be reindexed to match DataFrame index.\n",
      "  lastGames = df[df[\"GAME_ID\"].isin(gameIDs)][df[\"TEAM_ID\"] == teamID]\n",
      "X:\\ProgramFiles\\JetBrains\\PycharmProjects\\NBA-predictor\\utils.py:83: FutureWarning: Setting an item of incompatible dtype is deprecated and will raise an error in a future version of pandas. Value '10.333333333333334' has dtype incompatible with int64, please explicitly cast to a compatible dtype first.\n",
      "  test_games.at[index, key + \"_away\"] = value\n",
      "X:\\ProgramFiles\\JetBrains\\PycharmProjects\\NBA-predictor\\utils.py:55: UserWarning: Boolean Series key will be reindexed to match DataFrame index.\n",
      "  lastGames = df[df[\"GAME_ID\"].isin(gameIDs)][df[\"TEAM_ID\"] == teamID]\n",
      "X:\\ProgramFiles\\JetBrains\\PycharmProjects\\NBA-predictor\\utils.py:55: UserWarning: Boolean Series key will be reindexed to match DataFrame index.\n",
      "  lastGames = df[df[\"GAME_ID\"].isin(gameIDs)][df[\"TEAM_ID\"] == teamID]\n",
      "X:\\ProgramFiles\\JetBrains\\PycharmProjects\\NBA-predictor\\utils.py:55: UserWarning: Boolean Series key will be reindexed to match DataFrame index.\n",
      "  lastGames = df[df[\"GAME_ID\"].isin(gameIDs)][df[\"TEAM_ID\"] == teamID]\n",
      "X:\\ProgramFiles\\JetBrains\\PycharmProjects\\NBA-predictor\\utils.py:55: UserWarning: Boolean Series key will be reindexed to match DataFrame index.\n",
      "  lastGames = df[df[\"GAME_ID\"].isin(gameIDs)][df[\"TEAM_ID\"] == teamID]\n",
      "X:\\ProgramFiles\\JetBrains\\PycharmProjects\\NBA-predictor\\utils.py:55: UserWarning: Boolean Series key will be reindexed to match DataFrame index.\n",
      "  lastGames = df[df[\"GAME_ID\"].isin(gameIDs)][df[\"TEAM_ID\"] == teamID]\n",
      "X:\\ProgramFiles\\JetBrains\\PycharmProjects\\NBA-predictor\\utils.py:55: UserWarning: Boolean Series key will be reindexed to match DataFrame index.\n",
      "  lastGames = df[df[\"GAME_ID\"].isin(gameIDs)][df[\"TEAM_ID\"] == teamID]\n",
      "X:\\ProgramFiles\\JetBrains\\PycharmProjects\\NBA-predictor\\utils.py:55: UserWarning: Boolean Series key will be reindexed to match DataFrame index.\n",
      "  lastGames = df[df[\"GAME_ID\"].isin(gameIDs)][df[\"TEAM_ID\"] == teamID]\n",
      "X:\\ProgramFiles\\JetBrains\\PycharmProjects\\NBA-predictor\\utils.py:55: UserWarning: Boolean Series key will be reindexed to match DataFrame index.\n",
      "  lastGames = df[df[\"GAME_ID\"].isin(gameIDs)][df[\"TEAM_ID\"] == teamID]\n",
      "X:\\ProgramFiles\\JetBrains\\PycharmProjects\\NBA-predictor\\utils.py:55: UserWarning: Boolean Series key will be reindexed to match DataFrame index.\n",
      "  lastGames = df[df[\"GAME_ID\"].isin(gameIDs)][df[\"TEAM_ID\"] == teamID]\n",
      "X:\\ProgramFiles\\JetBrains\\PycharmProjects\\NBA-predictor\\utils.py:55: UserWarning: Boolean Series key will be reindexed to match DataFrame index.\n",
      "  lastGames = df[df[\"GAME_ID\"].isin(gameIDs)][df[\"TEAM_ID\"] == teamID]\n",
      "X:\\ProgramFiles\\JetBrains\\PycharmProjects\\NBA-predictor\\utils.py:55: UserWarning: Boolean Series key will be reindexed to match DataFrame index.\n",
      "  lastGames = df[df[\"GAME_ID\"].isin(gameIDs)][df[\"TEAM_ID\"] == teamID]\n",
      "X:\\ProgramFiles\\JetBrains\\PycharmProjects\\NBA-predictor\\utils.py:55: UserWarning: Boolean Series key will be reindexed to match DataFrame index.\n",
      "  lastGames = df[df[\"GAME_ID\"].isin(gameIDs)][df[\"TEAM_ID\"] == teamID]\n",
      "X:\\ProgramFiles\\JetBrains\\PycharmProjects\\NBA-predictor\\utils.py:55: UserWarning: Boolean Series key will be reindexed to match DataFrame index.\n",
      "  lastGames = df[df[\"GAME_ID\"].isin(gameIDs)][df[\"TEAM_ID\"] == teamID]\n",
      "X:\\ProgramFiles\\JetBrains\\PycharmProjects\\NBA-predictor\\utils.py:55: UserWarning: Boolean Series key will be reindexed to match DataFrame index.\n",
      "  lastGames = df[df[\"GAME_ID\"].isin(gameIDs)][df[\"TEAM_ID\"] == teamID]\n",
      "X:\\ProgramFiles\\JetBrains\\PycharmProjects\\NBA-predictor\\utils.py:55: UserWarning: Boolean Series key will be reindexed to match DataFrame index.\n",
      "  lastGames = df[df[\"GAME_ID\"].isin(gameIDs)][df[\"TEAM_ID\"] == teamID]\n",
      "X:\\ProgramFiles\\JetBrains\\PycharmProjects\\NBA-predictor\\utils.py:55: UserWarning: Boolean Series key will be reindexed to match DataFrame index.\n",
      "  lastGames = df[df[\"GAME_ID\"].isin(gameIDs)][df[\"TEAM_ID\"] == teamID]\n",
      "X:\\ProgramFiles\\JetBrains\\PycharmProjects\\NBA-predictor\\utils.py:55: UserWarning: Boolean Series key will be reindexed to match DataFrame index.\n",
      "  lastGames = df[df[\"GAME_ID\"].isin(gameIDs)][df[\"TEAM_ID\"] == teamID]\n",
      "X:\\ProgramFiles\\JetBrains\\PycharmProjects\\NBA-predictor\\utils.py:55: UserWarning: Boolean Series key will be reindexed to match DataFrame index.\n",
      "  lastGames = df[df[\"GAME_ID\"].isin(gameIDs)][df[\"TEAM_ID\"] == teamID]\n",
      "X:\\ProgramFiles\\JetBrains\\PycharmProjects\\NBA-predictor\\utils.py:55: UserWarning: Boolean Series key will be reindexed to match DataFrame index.\n",
      "  lastGames = df[df[\"GAME_ID\"].isin(gameIDs)][df[\"TEAM_ID\"] == teamID]\n",
      "X:\\ProgramFiles\\JetBrains\\PycharmProjects\\NBA-predictor\\utils.py:55: UserWarning: Boolean Series key will be reindexed to match DataFrame index.\n",
      "  lastGames = df[df[\"GAME_ID\"].isin(gameIDs)][df[\"TEAM_ID\"] == teamID]\n",
      "X:\\ProgramFiles\\JetBrains\\PycharmProjects\\NBA-predictor\\utils.py:55: UserWarning: Boolean Series key will be reindexed to match DataFrame index.\n",
      "  lastGames = df[df[\"GAME_ID\"].isin(gameIDs)][df[\"TEAM_ID\"] == teamID]\n",
      "X:\\ProgramFiles\\JetBrains\\PycharmProjects\\NBA-predictor\\utils.py:55: UserWarning: Boolean Series key will be reindexed to match DataFrame index.\n",
      "  lastGames = df[df[\"GAME_ID\"].isin(gameIDs)][df[\"TEAM_ID\"] == teamID]\n",
      "X:\\ProgramFiles\\JetBrains\\PycharmProjects\\NBA-predictor\\utils.py:55: UserWarning: Boolean Series key will be reindexed to match DataFrame index.\n",
      "  lastGames = df[df[\"GAME_ID\"].isin(gameIDs)][df[\"TEAM_ID\"] == teamID]\n",
      "X:\\ProgramFiles\\JetBrains\\PycharmProjects\\NBA-predictor\\utils.py:55: UserWarning: Boolean Series key will be reindexed to match DataFrame index.\n",
      "  lastGames = df[df[\"GAME_ID\"].isin(gameIDs)][df[\"TEAM_ID\"] == teamID]\n",
      "X:\\ProgramFiles\\JetBrains\\PycharmProjects\\NBA-predictor\\utils.py:55: UserWarning: Boolean Series key will be reindexed to match DataFrame index.\n",
      "  lastGames = df[df[\"GAME_ID\"].isin(gameIDs)][df[\"TEAM_ID\"] == teamID]\n",
      "X:\\ProgramFiles\\JetBrains\\PycharmProjects\\NBA-predictor\\utils.py:55: UserWarning: Boolean Series key will be reindexed to match DataFrame index.\n",
      "  lastGames = df[df[\"GAME_ID\"].isin(gameIDs)][df[\"TEAM_ID\"] == teamID]\n",
      "X:\\ProgramFiles\\JetBrains\\PycharmProjects\\NBA-predictor\\utils.py:55: UserWarning: Boolean Series key will be reindexed to match DataFrame index.\n",
      "  lastGames = df[df[\"GAME_ID\"].isin(gameIDs)][df[\"TEAM_ID\"] == teamID]\n",
      "X:\\ProgramFiles\\JetBrains\\PycharmProjects\\NBA-predictor\\utils.py:55: UserWarning: Boolean Series key will be reindexed to match DataFrame index.\n",
      "  lastGames = df[df[\"GAME_ID\"].isin(gameIDs)][df[\"TEAM_ID\"] == teamID]\n",
      "X:\\ProgramFiles\\JetBrains\\PycharmProjects\\NBA-predictor\\utils.py:55: UserWarning: Boolean Series key will be reindexed to match DataFrame index.\n",
      "  lastGames = df[df[\"GAME_ID\"].isin(gameIDs)][df[\"TEAM_ID\"] == teamID]\n",
      "X:\\ProgramFiles\\JetBrains\\PycharmProjects\\NBA-predictor\\utils.py:55: UserWarning: Boolean Series key will be reindexed to match DataFrame index.\n",
      "  lastGames = df[df[\"GAME_ID\"].isin(gameIDs)][df[\"TEAM_ID\"] == teamID]\n",
      "X:\\ProgramFiles\\JetBrains\\PycharmProjects\\NBA-predictor\\utils.py:55: UserWarning: Boolean Series key will be reindexed to match DataFrame index.\n",
      "  lastGames = df[df[\"GAME_ID\"].isin(gameIDs)][df[\"TEAM_ID\"] == teamID]\n",
      "X:\\ProgramFiles\\JetBrains\\PycharmProjects\\NBA-predictor\\utils.py:55: UserWarning: Boolean Series key will be reindexed to match DataFrame index.\n",
      "  lastGames = df[df[\"GAME_ID\"].isin(gameIDs)][df[\"TEAM_ID\"] == teamID]\n",
      "X:\\ProgramFiles\\JetBrains\\PycharmProjects\\NBA-predictor\\utils.py:55: UserWarning: Boolean Series key will be reindexed to match DataFrame index.\n",
      "  lastGames = df[df[\"GAME_ID\"].isin(gameIDs)][df[\"TEAM_ID\"] == teamID]\n",
      "X:\\ProgramFiles\\JetBrains\\PycharmProjects\\NBA-predictor\\utils.py:55: UserWarning: Boolean Series key will be reindexed to match DataFrame index.\n",
      "  lastGames = df[df[\"GAME_ID\"].isin(gameIDs)][df[\"TEAM_ID\"] == teamID]\n",
      "X:\\ProgramFiles\\JetBrains\\PycharmProjects\\NBA-predictor\\utils.py:55: UserWarning: Boolean Series key will be reindexed to match DataFrame index.\n",
      "  lastGames = df[df[\"GAME_ID\"].isin(gameIDs)][df[\"TEAM_ID\"] == teamID]\n",
      "X:\\ProgramFiles\\JetBrains\\PycharmProjects\\NBA-predictor\\utils.py:55: UserWarning: Boolean Series key will be reindexed to match DataFrame index.\n",
      "  lastGames = df[df[\"GAME_ID\"].isin(gameIDs)][df[\"TEAM_ID\"] == teamID]\n",
      "X:\\ProgramFiles\\JetBrains\\PycharmProjects\\NBA-predictor\\utils.py:55: UserWarning: Boolean Series key will be reindexed to match DataFrame index.\n",
      "  lastGames = df[df[\"GAME_ID\"].isin(gameIDs)][df[\"TEAM_ID\"] == teamID]\n",
      "X:\\ProgramFiles\\JetBrains\\PycharmProjects\\NBA-predictor\\utils.py:55: UserWarning: Boolean Series key will be reindexed to match DataFrame index.\n",
      "  lastGames = df[df[\"GAME_ID\"].isin(gameIDs)][df[\"TEAM_ID\"] == teamID]\n",
      "X:\\ProgramFiles\\JetBrains\\PycharmProjects\\NBA-predictor\\utils.py:55: UserWarning: Boolean Series key will be reindexed to match DataFrame index.\n",
      "  lastGames = df[df[\"GAME_ID\"].isin(gameIDs)][df[\"TEAM_ID\"] == teamID]\n",
      "X:\\ProgramFiles\\JetBrains\\PycharmProjects\\NBA-predictor\\utils.py:55: UserWarning: Boolean Series key will be reindexed to match DataFrame index.\n",
      "  lastGames = df[df[\"GAME_ID\"].isin(gameIDs)][df[\"TEAM_ID\"] == teamID]\n",
      "X:\\ProgramFiles\\JetBrains\\PycharmProjects\\NBA-predictor\\utils.py:55: UserWarning: Boolean Series key will be reindexed to match DataFrame index.\n",
      "  lastGames = df[df[\"GAME_ID\"].isin(gameIDs)][df[\"TEAM_ID\"] == teamID]\n",
      "X:\\ProgramFiles\\JetBrains\\PycharmProjects\\NBA-predictor\\utils.py:55: UserWarning: Boolean Series key will be reindexed to match DataFrame index.\n",
      "  lastGames = df[df[\"GAME_ID\"].isin(gameIDs)][df[\"TEAM_ID\"] == teamID]\n",
      "X:\\ProgramFiles\\JetBrains\\PycharmProjects\\NBA-predictor\\utils.py:55: UserWarning: Boolean Series key will be reindexed to match DataFrame index.\n",
      "  lastGames = df[df[\"GAME_ID\"].isin(gameIDs)][df[\"TEAM_ID\"] == teamID]\n",
      "X:\\ProgramFiles\\JetBrains\\PycharmProjects\\NBA-predictor\\utils.py:55: UserWarning: Boolean Series key will be reindexed to match DataFrame index.\n",
      "  lastGames = df[df[\"GAME_ID\"].isin(gameIDs)][df[\"TEAM_ID\"] == teamID]\n",
      "X:\\ProgramFiles\\JetBrains\\PycharmProjects\\NBA-predictor\\utils.py:55: UserWarning: Boolean Series key will be reindexed to match DataFrame index.\n",
      "  lastGames = df[df[\"GAME_ID\"].isin(gameIDs)][df[\"TEAM_ID\"] == teamID]\n",
      "X:\\ProgramFiles\\JetBrains\\PycharmProjects\\NBA-predictor\\utils.py:55: UserWarning: Boolean Series key will be reindexed to match DataFrame index.\n",
      "  lastGames = df[df[\"GAME_ID\"].isin(gameIDs)][df[\"TEAM_ID\"] == teamID]\n",
      "X:\\ProgramFiles\\JetBrains\\PycharmProjects\\NBA-predictor\\utils.py:55: UserWarning: Boolean Series key will be reindexed to match DataFrame index.\n",
      "  lastGames = df[df[\"GAME_ID\"].isin(gameIDs)][df[\"TEAM_ID\"] == teamID]\n",
      "X:\\ProgramFiles\\JetBrains\\PycharmProjects\\NBA-predictor\\utils.py:55: UserWarning: Boolean Series key will be reindexed to match DataFrame index.\n",
      "  lastGames = df[df[\"GAME_ID\"].isin(gameIDs)][df[\"TEAM_ID\"] == teamID]\n",
      "X:\\ProgramFiles\\JetBrains\\PycharmProjects\\NBA-predictor\\utils.py:55: UserWarning: Boolean Series key will be reindexed to match DataFrame index.\n",
      "  lastGames = df[df[\"GAME_ID\"].isin(gameIDs)][df[\"TEAM_ID\"] == teamID]\n",
      "X:\\ProgramFiles\\JetBrains\\PycharmProjects\\NBA-predictor\\utils.py:55: UserWarning: Boolean Series key will be reindexed to match DataFrame index.\n",
      "  lastGames = df[df[\"GAME_ID\"].isin(gameIDs)][df[\"TEAM_ID\"] == teamID]\n",
      "X:\\ProgramFiles\\JetBrains\\PycharmProjects\\NBA-predictor\\utils.py:55: UserWarning: Boolean Series key will be reindexed to match DataFrame index.\n",
      "  lastGames = df[df[\"GAME_ID\"].isin(gameIDs)][df[\"TEAM_ID\"] == teamID]\n",
      "X:\\ProgramFiles\\JetBrains\\PycharmProjects\\NBA-predictor\\utils.py:55: UserWarning: Boolean Series key will be reindexed to match DataFrame index.\n",
      "  lastGames = df[df[\"GAME_ID\"].isin(gameIDs)][df[\"TEAM_ID\"] == teamID]\n",
      "X:\\ProgramFiles\\JetBrains\\PycharmProjects\\NBA-predictor\\utils.py:55: UserWarning: Boolean Series key will be reindexed to match DataFrame index.\n",
      "  lastGames = df[df[\"GAME_ID\"].isin(gameIDs)][df[\"TEAM_ID\"] == teamID]\n",
      "X:\\ProgramFiles\\JetBrains\\PycharmProjects\\NBA-predictor\\utils.py:55: UserWarning: Boolean Series key will be reindexed to match DataFrame index.\n",
      "  lastGames = df[df[\"GAME_ID\"].isin(gameIDs)][df[\"TEAM_ID\"] == teamID]\n",
      "X:\\ProgramFiles\\JetBrains\\PycharmProjects\\NBA-predictor\\utils.py:55: UserWarning: Boolean Series key will be reindexed to match DataFrame index.\n",
      "  lastGames = df[df[\"GAME_ID\"].isin(gameIDs)][df[\"TEAM_ID\"] == teamID]\n",
      "X:\\ProgramFiles\\JetBrains\\PycharmProjects\\NBA-predictor\\utils.py:55: UserWarning: Boolean Series key will be reindexed to match DataFrame index.\n",
      "  lastGames = df[df[\"GAME_ID\"].isin(gameIDs)][df[\"TEAM_ID\"] == teamID]\n",
      "X:\\ProgramFiles\\JetBrains\\PycharmProjects\\NBA-predictor\\utils.py:55: UserWarning: Boolean Series key will be reindexed to match DataFrame index.\n",
      "  lastGames = df[df[\"GAME_ID\"].isin(gameIDs)][df[\"TEAM_ID\"] == teamID]\n",
      "X:\\ProgramFiles\\JetBrains\\PycharmProjects\\NBA-predictor\\utils.py:55: UserWarning: Boolean Series key will be reindexed to match DataFrame index.\n",
      "  lastGames = df[df[\"GAME_ID\"].isin(gameIDs)][df[\"TEAM_ID\"] == teamID]\n",
      "X:\\ProgramFiles\\JetBrains\\PycharmProjects\\NBA-predictor\\utils.py:55: UserWarning: Boolean Series key will be reindexed to match DataFrame index.\n",
      "  lastGames = df[df[\"GAME_ID\"].isin(gameIDs)][df[\"TEAM_ID\"] == teamID]\n",
      "X:\\ProgramFiles\\JetBrains\\PycharmProjects\\NBA-predictor\\utils.py:55: UserWarning: Boolean Series key will be reindexed to match DataFrame index.\n",
      "  lastGames = df[df[\"GAME_ID\"].isin(gameIDs)][df[\"TEAM_ID\"] == teamID]\n",
      "X:\\ProgramFiles\\JetBrains\\PycharmProjects\\NBA-predictor\\utils.py:55: UserWarning: Boolean Series key will be reindexed to match DataFrame index.\n",
      "  lastGames = df[df[\"GAME_ID\"].isin(gameIDs)][df[\"TEAM_ID\"] == teamID]\n",
      "X:\\ProgramFiles\\JetBrains\\PycharmProjects\\NBA-predictor\\utils.py:55: UserWarning: Boolean Series key will be reindexed to match DataFrame index.\n",
      "  lastGames = df[df[\"GAME_ID\"].isin(gameIDs)][df[\"TEAM_ID\"] == teamID]\n",
      "X:\\ProgramFiles\\JetBrains\\PycharmProjects\\NBA-predictor\\utils.py:55: UserWarning: Boolean Series key will be reindexed to match DataFrame index.\n",
      "  lastGames = df[df[\"GAME_ID\"].isin(gameIDs)][df[\"TEAM_ID\"] == teamID]\n",
      "X:\\ProgramFiles\\JetBrains\\PycharmProjects\\NBA-predictor\\utils.py:55: UserWarning: Boolean Series key will be reindexed to match DataFrame index.\n",
      "  lastGames = df[df[\"GAME_ID\"].isin(gameIDs)][df[\"TEAM_ID\"] == teamID]\n",
      "X:\\ProgramFiles\\JetBrains\\PycharmProjects\\NBA-predictor\\utils.py:55: UserWarning: Boolean Series key will be reindexed to match DataFrame index.\n",
      "  lastGames = df[df[\"GAME_ID\"].isin(gameIDs)][df[\"TEAM_ID\"] == teamID]\n",
      "X:\\ProgramFiles\\JetBrains\\PycharmProjects\\NBA-predictor\\utils.py:55: UserWarning: Boolean Series key will be reindexed to match DataFrame index.\n",
      "  lastGames = df[df[\"GAME_ID\"].isin(gameIDs)][df[\"TEAM_ID\"] == teamID]\n",
      "X:\\ProgramFiles\\JetBrains\\PycharmProjects\\NBA-predictor\\utils.py:55: UserWarning: Boolean Series key will be reindexed to match DataFrame index.\n",
      "  lastGames = df[df[\"GAME_ID\"].isin(gameIDs)][df[\"TEAM_ID\"] == teamID]\n",
      "X:\\ProgramFiles\\JetBrains\\PycharmProjects\\NBA-predictor\\utils.py:55: UserWarning: Boolean Series key will be reindexed to match DataFrame index.\n",
      "  lastGames = df[df[\"GAME_ID\"].isin(gameIDs)][df[\"TEAM_ID\"] == teamID]\n",
      "X:\\ProgramFiles\\JetBrains\\PycharmProjects\\NBA-predictor\\utils.py:55: UserWarning: Boolean Series key will be reindexed to match DataFrame index.\n",
      "  lastGames = df[df[\"GAME_ID\"].isin(gameIDs)][df[\"TEAM_ID\"] == teamID]\n",
      "X:\\ProgramFiles\\JetBrains\\PycharmProjects\\NBA-predictor\\utils.py:55: UserWarning: Boolean Series key will be reindexed to match DataFrame index.\n",
      "  lastGames = df[df[\"GAME_ID\"].isin(gameIDs)][df[\"TEAM_ID\"] == teamID]\n",
      "X:\\ProgramFiles\\JetBrains\\PycharmProjects\\NBA-predictor\\utils.py:55: UserWarning: Boolean Series key will be reindexed to match DataFrame index.\n",
      "  lastGames = df[df[\"GAME_ID\"].isin(gameIDs)][df[\"TEAM_ID\"] == teamID]\n",
      "X:\\ProgramFiles\\JetBrains\\PycharmProjects\\NBA-predictor\\utils.py:55: UserWarning: Boolean Series key will be reindexed to match DataFrame index.\n",
      "  lastGames = df[df[\"GAME_ID\"].isin(gameIDs)][df[\"TEAM_ID\"] == teamID]\n",
      "X:\\ProgramFiles\\JetBrains\\PycharmProjects\\NBA-predictor\\utils.py:55: UserWarning: Boolean Series key will be reindexed to match DataFrame index.\n",
      "  lastGames = df[df[\"GAME_ID\"].isin(gameIDs)][df[\"TEAM_ID\"] == teamID]\n",
      "X:\\ProgramFiles\\JetBrains\\PycharmProjects\\NBA-predictor\\utils.py:55: UserWarning: Boolean Series key will be reindexed to match DataFrame index.\n",
      "  lastGames = df[df[\"GAME_ID\"].isin(gameIDs)][df[\"TEAM_ID\"] == teamID]\n",
      "X:\\ProgramFiles\\JetBrains\\PycharmProjects\\NBA-predictor\\utils.py:55: UserWarning: Boolean Series key will be reindexed to match DataFrame index.\n",
      "  lastGames = df[df[\"GAME_ID\"].isin(gameIDs)][df[\"TEAM_ID\"] == teamID]\n",
      "X:\\ProgramFiles\\JetBrains\\PycharmProjects\\NBA-predictor\\utils.py:55: UserWarning: Boolean Series key will be reindexed to match DataFrame index.\n",
      "  lastGames = df[df[\"GAME_ID\"].isin(gameIDs)][df[\"TEAM_ID\"] == teamID]\n",
      "X:\\ProgramFiles\\JetBrains\\PycharmProjects\\NBA-predictor\\utils.py:55: UserWarning: Boolean Series key will be reindexed to match DataFrame index.\n",
      "  lastGames = df[df[\"GAME_ID\"].isin(gameIDs)][df[\"TEAM_ID\"] == teamID]\n",
      "X:\\ProgramFiles\\JetBrains\\PycharmProjects\\NBA-predictor\\utils.py:55: UserWarning: Boolean Series key will be reindexed to match DataFrame index.\n",
      "  lastGames = df[df[\"GAME_ID\"].isin(gameIDs)][df[\"TEAM_ID\"] == teamID]\n",
      "X:\\ProgramFiles\\JetBrains\\PycharmProjects\\NBA-predictor\\utils.py:55: UserWarning: Boolean Series key will be reindexed to match DataFrame index.\n",
      "  lastGames = df[df[\"GAME_ID\"].isin(gameIDs)][df[\"TEAM_ID\"] == teamID]\n",
      "X:\\ProgramFiles\\JetBrains\\PycharmProjects\\NBA-predictor\\utils.py:55: UserWarning: Boolean Series key will be reindexed to match DataFrame index.\n",
      "  lastGames = df[df[\"GAME_ID\"].isin(gameIDs)][df[\"TEAM_ID\"] == teamID]\n",
      "X:\\ProgramFiles\\JetBrains\\PycharmProjects\\NBA-predictor\\utils.py:55: UserWarning: Boolean Series key will be reindexed to match DataFrame index.\n",
      "  lastGames = df[df[\"GAME_ID\"].isin(gameIDs)][df[\"TEAM_ID\"] == teamID]\n",
      "X:\\ProgramFiles\\JetBrains\\PycharmProjects\\NBA-predictor\\utils.py:55: UserWarning: Boolean Series key will be reindexed to match DataFrame index.\n",
      "  lastGames = df[df[\"GAME_ID\"].isin(gameIDs)][df[\"TEAM_ID\"] == teamID]\n",
      "X:\\ProgramFiles\\JetBrains\\PycharmProjects\\NBA-predictor\\utils.py:55: UserWarning: Boolean Series key will be reindexed to match DataFrame index.\n",
      "  lastGames = df[df[\"GAME_ID\"].isin(gameIDs)][df[\"TEAM_ID\"] == teamID]\n",
      "X:\\ProgramFiles\\JetBrains\\PycharmProjects\\NBA-predictor\\utils.py:55: UserWarning: Boolean Series key will be reindexed to match DataFrame index.\n",
      "  lastGames = df[df[\"GAME_ID\"].isin(gameIDs)][df[\"TEAM_ID\"] == teamID]\n",
      "X:\\ProgramFiles\\JetBrains\\PycharmProjects\\NBA-predictor\\utils.py:55: UserWarning: Boolean Series key will be reindexed to match DataFrame index.\n",
      "  lastGames = df[df[\"GAME_ID\"].isin(gameIDs)][df[\"TEAM_ID\"] == teamID]\n",
      "X:\\ProgramFiles\\JetBrains\\PycharmProjects\\NBA-predictor\\utils.py:55: UserWarning: Boolean Series key will be reindexed to match DataFrame index.\n",
      "  lastGames = df[df[\"GAME_ID\"].isin(gameIDs)][df[\"TEAM_ID\"] == teamID]\n",
      "X:\\ProgramFiles\\JetBrains\\PycharmProjects\\NBA-predictor\\utils.py:55: UserWarning: Boolean Series key will be reindexed to match DataFrame index.\n",
      "  lastGames = df[df[\"GAME_ID\"].isin(gameIDs)][df[\"TEAM_ID\"] == teamID]\n",
      "X:\\ProgramFiles\\JetBrains\\PycharmProjects\\NBA-predictor\\utils.py:55: UserWarning: Boolean Series key will be reindexed to match DataFrame index.\n",
      "  lastGames = df[df[\"GAME_ID\"].isin(gameIDs)][df[\"TEAM_ID\"] == teamID]\n",
      "X:\\ProgramFiles\\JetBrains\\PycharmProjects\\NBA-predictor\\utils.py:55: UserWarning: Boolean Series key will be reindexed to match DataFrame index.\n",
      "  lastGames = df[df[\"GAME_ID\"].isin(gameIDs)][df[\"TEAM_ID\"] == teamID]\n",
      "X:\\ProgramFiles\\JetBrains\\PycharmProjects\\NBA-predictor\\utils.py:55: UserWarning: Boolean Series key will be reindexed to match DataFrame index.\n",
      "  lastGames = df[df[\"GAME_ID\"].isin(gameIDs)][df[\"TEAM_ID\"] == teamID]\n",
      "C:\\Users\\Mateusz\\AppData\\Local\\Temp\\ipykernel_20396\\2352790814.py:19: FutureWarning: Setting an item of incompatible dtype is deprecated and will raise an error in a future version of pandas. Value '[42.         43.33333333 48.33333333 52.33333333 40.         47.\n",
      " 34.         41.33333333 47.         45.         37.33333333 44.\n",
      " 42.         45.33333333 40.         42.         36.         44.\n",
      " 36.         48.33333333 51.66666667 43.         45.         43.33333333\n",
      " 46.         40.         40.66666667 39.33333333 42.66666667 43.66666667\n",
      " 37.66666667 40.         39.66666667 49.         43.33333333 49.33333333\n",
      " 44.66666667 47.33333333 39.33333333 37.66666667 54.66666667 41.33333333\n",
      " 41.         46.33333333 44.         46.33333333 42.33333333 45.33333333]' has dtype incompatible with int64, please explicitly cast to a compatible dtype first.\n",
      "  raw_dataset.loc[test_raw_dataset_rebased.index] = test_raw_dataset_rebased\n",
      "C:\\Users\\Mateusz\\AppData\\Local\\Temp\\ipykernel_20396\\2352790814.py:19: FutureWarning: Setting an item of incompatible dtype is deprecated and will raise an error in a future version of pandas. Value '[ 8.66666667 10.         14.33333333 14.         11.         14.33333333\n",
      "  7.         10.          9.         11.66666667  9.33333333 10.\n",
      " 11.         11.33333333 11.         13.33333333  4.33333333 11.66666667\n",
      " 10.33333333  9.33333333 10.          9.66666667  9.33333333 11.66666667\n",
      " 11.66666667  8.         10.33333333 10.         11.          8.33333333\n",
      "  6.          9.33333333  7.33333333 14.33333333  8.          8.66666667\n",
      " 13.33333333 13.66666667  6.          8.33333333 13.33333333 12.\n",
      " 11.33333333 13.66666667 10.          9.66666667  9.33333333 11.66666667]' has dtype incompatible with int64, please explicitly cast to a compatible dtype first.\n",
      "  raw_dataset.loc[test_raw_dataset_rebased.index] = test_raw_dataset_rebased\n",
      "C:\\Users\\Mateusz\\AppData\\Local\\Temp\\ipykernel_20396\\2352790814.py:19: FutureWarning: Setting an item of incompatible dtype is deprecated and will raise an error in a future version of pandas. Value '[33.33333333 33.33333333 34.         38.33333333 29.         32.66666667\n",
      " 27.         31.33333333 38.         33.33333333 28.         34.\n",
      " 31.         34.         29.         28.66666667 31.66666667 32.33333333\n",
      " 25.66666667 39.         41.66666667 33.33333333 35.66666667 31.66666667\n",
      " 34.33333333 32.         30.33333333 29.33333333 31.66666667 35.33333333\n",
      " 31.66666667 30.66666667 32.33333333 34.66666667 35.33333333 40.66666667\n",
      " 31.33333333 33.66666667 33.33333333 29.33333333 41.33333333 29.33333333\n",
      " 29.66666667 32.66666667 34.         36.66666667 33.         33.66666667]' has dtype incompatible with int64, please explicitly cast to a compatible dtype first.\n",
      "  raw_dataset.loc[test_raw_dataset_rebased.index] = test_raw_dataset_rebased\n",
      "C:\\Users\\Mateusz\\AppData\\Local\\Temp\\ipykernel_20396\\2352790814.py:19: FutureWarning: Setting an item of incompatible dtype is deprecated and will raise an error in a future version of pandas. Value '[23.33333333 26.         21.33333333 25.66666667 18.         31.33333333\n",
      " 29.         27.33333333 29.66666667 28.66666667 28.33333333 27.66666667\n",
      " 24.33333333 23.33333333 27.         23.33333333 26.66666667 30.\n",
      " 22.66666667 27.66666667 25.66666667 25.66666667 28.         30.33333333\n",
      " 26.66666667 26.33333333 24.33333333 22.         25.66666667 30.33333333\n",
      " 33.         25.         31.66666667 23.33333333 29.         28.\n",
      " 25.33333333 34.         28.66666667 28.         30.         26.66666667\n",
      " 21.33333333 28.         28.         27.         25.33333333 35.33333333]' has dtype incompatible with int64, please explicitly cast to a compatible dtype first.\n",
      "  raw_dataset.loc[test_raw_dataset_rebased.index] = test_raw_dataset_rebased\n",
      "C:\\Users\\Mateusz\\AppData\\Local\\Temp\\ipykernel_20396\\2352790814.py:19: FutureWarning: Setting an item of incompatible dtype is deprecated and will raise an error in a future version of pandas. Value '[ 9.          5.66666667  8.66666667  7.66666667  6.66666667  7.66666667\n",
      "  9.         10.          9.66666667  7.          8.          8.33333333\n",
      " 10.          5.33333333  7.66666667  7.33333333  9.33333333  8.33333333\n",
      "  9.66666667  5.66666667  6.33333333  7.33333333  9.         10.\n",
      "  6.66666667  9.33333333  7.33333333 12.66666667  7.33333333  8.33333333\n",
      "  9.33333333  7.66666667  7.33333333  9.          6.          8.66666667\n",
      "  6.          7.          6.33333333  6.66666667  7.66666667  7.33333333\n",
      "  9.          5.33333333  8.          6.33333333  6.66666667  6.        ]' has dtype incompatible with int64, please explicitly cast to a compatible dtype first.\n",
      "  raw_dataset.loc[test_raw_dataset_rebased.index] = test_raw_dataset_rebased\n",
      "C:\\Users\\Mateusz\\AppData\\Local\\Temp\\ipykernel_20396\\2352790814.py:19: FutureWarning: Setting an item of incompatible dtype is deprecated and will raise an error in a future version of pandas. Value '[3.33333333 5.         4.         4.33333333 5.66666667 6.66666667\n",
      " 5.66666667 4.66666667 3.         4.66666667 3.66666667 5.66666667\n",
      " 3.         6.33333333 5.66666667 7.         7.         8.66666667\n",
      " 3.33333333 5.33333333 2.66666667 6.33333333 1.66666667 6.33333333\n",
      " 5.33333333 4.         3.33333333 6.66666667 4.         7.\n",
      " 5.66666667 3.         7.         5.66666667 5.         9.33333333\n",
      " 3.66666667 5.66666667 5.         4.         5.         4.66666667\n",
      " 4.66666667 6.33333333 4.         7.         5.33333333 5.66666667]' has dtype incompatible with int64, please explicitly cast to a compatible dtype first.\n",
      "  raw_dataset.loc[test_raw_dataset_rebased.index] = test_raw_dataset_rebased\n",
      "C:\\Users\\Mateusz\\AppData\\Local\\Temp\\ipykernel_20396\\2352790814.py:19: FutureWarning: Setting an item of incompatible dtype is deprecated and will raise an error in a future version of pandas. Value '[ 8.         11.33333333 15.         17.66666667 16.33333333 12.33333333\n",
      " 12.66666667 11.         11.         15.66666667  9.         10.66666667\n",
      "  8.         13.66666667 12.66666667 10.33333333 15.         16.33333333\n",
      " 18.         11.33333333 15.         12.         11.         12.66666667\n",
      " 15.         16.         13.33333333 11.         15.         13.33333333\n",
      " 10.66666667 14.66666667 10.         15.33333333 12.66666667 12.\n",
      " 10.33333333 14.33333333 12.         12.66666667 14.66666667  9.\n",
      "  8.33333333 14.         10.         10.         11.         11.        ]' has dtype incompatible with int64, please explicitly cast to a compatible dtype first.\n",
      "  raw_dataset.loc[test_raw_dataset_rebased.index] = test_raw_dataset_rebased\n",
      "C:\\Users\\Mateusz\\AppData\\Local\\Temp\\ipykernel_20396\\2352790814.py:19: FutureWarning: Setting an item of incompatible dtype is deprecated and will raise an error in a future version of pandas. Value '[45.66666667 50.         39.33333333 40.33333333 47.33333333 41.33333333\n",
      " 48.33333333 35.         42.66666667 43.         48.         40.66666667\n",
      " 41.33333333 43.         46.33333333 37.66666667 47.         42.33333333\n",
      " 41.33333333 41.33333333 40.66666667 49.         50.33333333 48.33333333\n",
      " 43.66666667 44.66666667 41.66666667 37.66666667 44.33333333 49.33333333\n",
      " 50.         43.66666667 50.         50.66666667 46.66666667 49.33333333\n",
      " 34.66666667 50.         43.         45.         41.33333333 50.\n",
      " 36.         35.33333333 42.33333333 51.         46.33333333 46.33333333]' has dtype incompatible with int64, please explicitly cast to a compatible dtype first.\n",
      "  raw_dataset.loc[test_raw_dataset_rebased.index] = test_raw_dataset_rebased\n",
      "C:\\Users\\Mateusz\\AppData\\Local\\Temp\\ipykernel_20396\\2352790814.py:19: FutureWarning: Setting an item of incompatible dtype is deprecated and will raise an error in a future version of pandas. Value '[10.         13.         10.33333333  9.66666667 17.66666667  6.33333333\n",
      " 13.33333333  5.66666667  7.         12.66666667 14.33333333  8.33333333\n",
      "  9.          8.33333333  6.33333333  9.33333333  8.33333333 10.33333333\n",
      "  8.66666667  9.33333333 10.66666667 11.33333333 10.66666667 11.\n",
      " 11.         13.66666667 10.          6.         11.33333333 12.66666667\n",
      " 10.         10.33333333 12.         11.66666667 10.33333333 14.\n",
      "  7.66666667 12.          8.66666667 12.33333333  8.66666667 10.66666667\n",
      "  6.66666667  6.66666667 12.33333333 13.33333333 13.33333333 12.        ]' has dtype incompatible with int64, please explicitly cast to a compatible dtype first.\n",
      "  raw_dataset.loc[test_raw_dataset_rebased.index] = test_raw_dataset_rebased\n",
      "C:\\Users\\Mateusz\\AppData\\Local\\Temp\\ipykernel_20396\\2352790814.py:19: FutureWarning: Setting an item of incompatible dtype is deprecated and will raise an error in a future version of pandas. Value '[35.66666667 37.         29.         30.66666667 29.66666667 35.\n",
      " 35.         29.33333333 35.66666667 30.33333333 33.66666667 32.33333333\n",
      " 32.33333333 34.66666667 40.         28.33333333 38.66666667 32.\n",
      " 32.66666667 32.         30.         37.66666667 39.66666667 37.33333333\n",
      " 32.66666667 31.         31.66666667 31.66666667 33.         36.66666667\n",
      " 40.         33.33333333 38.         39.         36.33333333 35.33333333\n",
      " 27.         38.         34.33333333 32.66666667 32.66666667 39.33333333\n",
      " 29.33333333 28.66666667 30.         37.66666667 33.         34.33333333]' has dtype incompatible with int64, please explicitly cast to a compatible dtype first.\n",
      "  raw_dataset.loc[test_raw_dataset_rebased.index] = test_raw_dataset_rebased\n",
      "C:\\Users\\Mateusz\\AppData\\Local\\Temp\\ipykernel_20396\\2352790814.py:19: FutureWarning: Setting an item of incompatible dtype is deprecated and will raise an error in a future version of pandas. Value '[27.66666667 27.33333333 27.         29.66666667 23.         31.33333333\n",
      " 22.         23.         27.         20.66666667 24.         28.33333333\n",
      " 24.66666667 30.33333333 29.         26.33333333 23.66666667 26.66666667\n",
      " 27.33333333 30.66666667 22.33333333 24.         29.33333333 28.33333333\n",
      " 28.66666667 23.66666667 32.66666667 30.         30.         23.\n",
      " 26.33333333 23.33333333 28.33333333 32.66666667 23.33333333 23.33333333\n",
      " 33.33333333 35.33333333 28.66666667 22.         21.66666667 20.66666667\n",
      " 22.33333333 32.66666667 28.33333333 30.33333333 25.66666667 30.66666667]' has dtype incompatible with int64, please explicitly cast to a compatible dtype first.\n",
      "  raw_dataset.loc[test_raw_dataset_rebased.index] = test_raw_dataset_rebased\n",
      "C:\\Users\\Mateusz\\AppData\\Local\\Temp\\ipykernel_20396\\2352790814.py:19: FutureWarning: Setting an item of incompatible dtype is deprecated and will raise an error in a future version of pandas. Value '[ 4.66666667  6.33333333  9.          6.66666667 11.          6.66666667\n",
      "  7.66666667  7.33333333  5.          5.33333333  7.33333333 11.\n",
      "  7.33333333  7.66666667  7.33333333  4.66666667  6.66666667  8.33333333\n",
      "  9.          7.66666667  5.66666667  5.33333333  9.          7.33333333\n",
      "  8.33333333  6.          5.33333333  6.66666667  7.66666667  4.66666667\n",
      "  7.66666667  5.33333333  4.          6.          9.66666667  6.66666667\n",
      "  7.66666667  8.33333333 10.          9.          7.          4.\n",
      "  6.33333333  8.          7.         10.          8.66666667  8.33333333]' has dtype incompatible with int64, please explicitly cast to a compatible dtype first.\n",
      "  raw_dataset.loc[test_raw_dataset_rebased.index] = test_raw_dataset_rebased\n",
      "C:\\Users\\Mateusz\\AppData\\Local\\Temp\\ipykernel_20396\\2352790814.py:19: FutureWarning: Setting an item of incompatible dtype is deprecated and will raise an error in a future version of pandas. Value '[ 6.66666667  4.          3.33333333  4.          5.33333333  7.66666667\n",
      "  4.          4.          5.33333333  3.33333333  4.33333333  2.33333333\n",
      "  7.33333333  5.33333333  7.66666667  7.          7.33333333  5.33333333\n",
      "  7.33333333  8.          5.          5.          6.          6.\n",
      "  7.66666667  3.33333333  4.66666667  4.33333333  6.          6.33333333\n",
      "  9.          4.66666667  3.66666667 10.33333333  3.66666667  5.66666667\n",
      "  5.66666667  7.33333333  6.33333333  4.          4.66666667  9.\n",
      "  2.33333333  4.33333333  5.66666667  5.33333333  3.33333333  4.66666667]' has dtype incompatible with int64, please explicitly cast to a compatible dtype first.\n",
      "  raw_dataset.loc[test_raw_dataset_rebased.index] = test_raw_dataset_rebased\n",
      "C:\\Users\\Mateusz\\AppData\\Local\\Temp\\ipykernel_20396\\2352790814.py:19: FutureWarning: Setting an item of incompatible dtype is deprecated and will raise an error in a future version of pandas. Value '[14.66666667 12.33333333 11.         13.33333333 15.33333333 13.\n",
      " 16.33333333 14.33333333 12.66666667 13.         15.33333333 13.66666667\n",
      " 14.66666667  8.33333333 12.33333333 12.66666667 16.         12.\n",
      " 11.33333333 12.         13.         14.33333333 12.33333333  9.66666667\n",
      " 14.         13.66666667 14.66666667  8.33333333 16.33333333 18.\n",
      " 13.66666667 11.66666667 13.66666667 16.         10.66666667 18.\n",
      " 12.33333333 13.33333333 13.33333333 15.         15.33333333 15.66666667\n",
      " 17.33333333 13.66666667 13.33333333 14.33333333 13.         15.33333333]' has dtype incompatible with int64, please explicitly cast to a compatible dtype first.\n",
      "  raw_dataset.loc[test_raw_dataset_rebased.index] = test_raw_dataset_rebased\n"
     ]
    }
   ],
   "execution_count": 3
  },
  {
   "metadata": {
    "ExecuteTime": {
     "end_time": "2024-06-04T21:08:57.771777Z",
     "start_time": "2024-06-04T21:08:57.757451Z"
    }
   },
   "cell_type": "code",
   "source": [
    "# train_dataset = dataset.sample(frac=0.9, random_state=0)\n",
    "# test_dataset = dataset.drop(train_dataset.index)"
   ],
   "id": "7fae5f3accdc149e",
   "outputs": [],
   "execution_count": 4
  },
  {
   "metadata": {
    "ExecuteTime": {
     "end_time": "2024-06-04T21:08:58.615876Z",
     "start_time": "2024-06-04T21:08:58.600228Z"
    }
   },
   "cell_type": "code",
   "source": [
    "# train_features = train_dataset.copy()\n",
    "# test_features = test_dataset.copy()\n",
    "# \n",
    "# train_labels = train_features.pop('OUTCOME')\n",
    "# test_labels = test_features.pop('OUTCOME')"
   ],
   "id": "2b4b9822ca05eb3c",
   "outputs": [],
   "execution_count": 5
  },
  {
   "metadata": {},
   "cell_type": "markdown",
   "source": "# Models",
   "id": "6f99ca3395f5dadd"
  },
  {
   "metadata": {
    "ExecuteTime": {
     "end_time": "2024-06-06T16:26:33.589079Z",
     "start_time": "2024-06-06T16:26:33.575483Z"
    }
   },
   "cell_type": "code",
   "source": [
    "models = {\n",
    "    \"mlp\": MLPClassifier(max_iter=10000),\n",
    "    \"svm\": svm.SVC(),\n",
    "    \"lgr\": LogisticRegression(),\n",
    "    \"rf\": RandomForestClassifier(),\n",
    "    \"gnb\": GaussianNB()\n",
    "}"
   ],
   "id": "bc5c35c5b839720e",
   "outputs": [],
   "execution_count": 4
  },
  {
   "metadata": {},
   "cell_type": "markdown",
   "source": "# Hyper tuning ",
   "id": "9cf87628e81f79ca"
  },
  {
   "metadata": {
    "ExecuteTime": {
     "end_time": "2024-06-06T16:26:49.675011Z",
     "start_time": "2024-06-06T16:26:49.665843Z"
    }
   },
   "cell_type": "code",
   "source": [
    "def hypertune(x, y, model, grid):\n",
    "    cv = KFold(n_splits=10)\n",
    "    grid_search = GridSearchCV(estimator=model, param_grid=grid, n_jobs=-1, cv=cv, scoring='accuracy', error_score=0, verbose=2)\n",
    "    grid_result = grid_search.fit(x, y)\n",
    "    means = grid_result.cv_results_['mean_test_score']\n",
    "    params = grid_result.cv_results_['params']\n",
    "    return zip(means, params)"
   ],
   "id": "f4fb9ebf14593997",
   "outputs": [],
   "execution_count": 5
  },
  {
   "metadata": {},
   "cell_type": "markdown",
   "source": "## MLP parameters",
   "id": "7b4e5100eb2ca4c0"
  },
  {
   "metadata": {
    "ExecuteTime": {
     "end_time": "2024-06-04T21:09:17.890207Z",
     "start_time": "2024-06-04T21:09:17.876823Z"
    }
   },
   "cell_type": "code",
   "source": [
    "def hiddenLayer_generator():\n",
    "    result = []\n",
    "    for neurons in (64, 128, 256, 321, 512):\n",
    "        for no_layers in range(1,4):\n",
    "            result.append(tuple([neurons for _ in range(no_layers)]))\n",
    "    return result"
   ],
   "id": "e85b878f84055c0a",
   "outputs": [],
   "execution_count": 8
  },
  {
   "metadata": {
    "ExecuteTime": {
     "end_time": "2024-06-04T21:11:14.348030Z",
     "start_time": "2024-06-04T21:11:14.337456Z"
    }
   },
   "cell_type": "code",
   "source": [
    "early_stopping = [True, False]\n",
    "# activation = ['logistic', 'tanh', 'relu']\n",
    "activation = ['tanh', 'relu']\n",
    "solver = ['sgd', 'adam', 'lbfgs']\n",
    "\n",
    "alpha = [float(10**i) for i in range(-5,3)]\n",
    "learning_rate_init = [1e-1, 1e-2, 1e-3, 1e-4]\n",
    "learning_rate = ['adaptive', 'invscaling']\n",
    "\n",
    "hidden_layer_sizes = hiddenLayer_generator()\n",
    "mlp_grid = dict(\n",
    "    hidden_layer_sizes=hidden_layer_sizes,\n",
    "    activation=activation,\n",
    "    solver=solver,\n",
    "    alpha=alpha,\n",
    "    learning_rate=learning_rate,\n",
    "    learning_rate_init=learning_rate_init,\n",
    "    early_stopping=early_stopping\n",
    ")"
   ],
   "id": "207a67bf208af751",
   "outputs": [],
   "execution_count": 10
  },
  {
   "metadata": {
    "ExecuteTime": {
     "end_time": "2024-06-04T21:12:30.795672Z",
     "start_time": "2024-06-04T21:11:40.297899Z"
    }
   },
   "cell_type": "code",
   "source": [
    "with open('resources/models/hyper-tuning/neural-network.tsv', 'a') as file:\n",
    "    file.write(f'hidden_layer_sizes\\tactivation\\tsolver\\talpha\\tlearning_rate\\tlearning_rate_init\\taccuracy\\n')\n",
    "    combinations = hypertune(train_features, train_labels, models[\"mlp\"], mlp_grid)\n",
    "    for mean, param in combinations:\n",
    "        hidden_layer_sizes = param['hidden_layer_sizes']\n",
    "        activation = param[\"activation\"]\n",
    "        solver = param[\"solver\"]\n",
    "        alpha = param[\"alpha\"]\n",
    "        learning_rate = param[\"learning_rate\"]\n",
    "        learning_rate_init = param[\"learning_rate_init\"]\n",
    "        early_stopping = param[\"early_stopping\"]\n",
    "\n",
    "        file.write(f\"{hidden_layer_sizes[0]}x{len(hidden_layer_sizes)}\\t{activation}\\t{solver}\\t{alpha}\\t{learning_rate}\\t{learning_rate_init}\\t{early_stopping}\\t{round(mean,5)}\\n\")\n"
   ],
   "id": "895fadbe3632fb52",
   "outputs": [
    {
     "name": "stdout",
     "output_type": "stream",
     "text": [
      "Fitting 10 folds for each of 92400 candidates, totalling 924000 fits\n"
     ]
    },
    {
     "name": "stderr",
     "output_type": "stream",
     "text": [
      "\n",
      "KeyboardInterrupt\n",
      "\n"
     ]
    }
   ],
   "execution_count": 11
  },
  {
   "metadata": {
    "ExecuteTime": {
     "end_time": "2024-06-06T16:32:24.351034Z",
     "start_time": "2024-06-06T16:32:24.041302Z"
    }
   },
   "cell_type": "code",
   "source": [
    "mlp = MLPClassifier(hidden_layer_sizes=(64,64), activation=\"relu\", solver='lbfgs', alpha=0.1, learning_rate='adaptive', learning_rate_init=0.001, early_stopping=True)\n",
    "mlp.fit(train_features, train_labels)\n",
    "\n",
    "predictions = mlp.predict(test_features)\n",
    "accuracy_score(test_labels, predictions)"
   ],
   "id": "e3d08ecb8d9e05ca",
   "outputs": [
    {
     "data": {
      "text/plain": [
       "0.9166666666666666"
      ]
     },
     "execution_count": 18,
     "metadata": {},
     "output_type": "execute_result"
    }
   ],
   "execution_count": 18
  },
  {
   "metadata": {
    "ExecuteTime": {
     "end_time": "2024-06-06T16:30:10.511435Z",
     "start_time": "2024-06-06T16:30:10.496363Z"
    }
   },
   "cell_type": "code",
   "source": [
    "from pickle import dump\n",
    "with open(\"resources/models/all/mlp.pkl\", \"wb\") as f:\n",
    "    dump(mlp, f, protocol=5)"
   ],
   "id": "166b9d5b0f6048bd",
   "outputs": [],
   "execution_count": 10
  },
  {
   "metadata": {},
   "cell_type": "markdown",
   "source": "## SVM parameters",
   "id": "22f4e5ab0bacecb6"
  },
  {
   "metadata": {
    "ExecuteTime": {
     "end_time": "2024-06-05T12:09:43.982382Z",
     "start_time": "2024-06-05T12:09:43.972399Z"
    }
   },
   "cell_type": "code",
   "source": [
    "kernel1 = ['linear', 'rbf', 'sigmoid']\n",
    "kernel2 = ['poly']\n",
    "C = [1000, 100, 50, 10, 1.0, 0.1, 0.01]\n",
    "degree = range(1,20)\n",
    "probability=[True, False]\n",
    "svm_grid1 = dict(kernel=kernel1, C=C, probability=probability)\n",
    "svm_grid2 = dict(kernel=kernel2, C=C, degree=degree, probability=probability)"
   ],
   "id": "49faf0c3a18fce44",
   "outputs": [],
   "execution_count": 9
  },
  {
   "metadata": {
    "ExecuteTime": {
     "end_time": "2024-06-05T12:10:38.811032Z",
     "start_time": "2024-06-05T12:09:47.387598Z"
    }
   },
   "cell_type": "code",
   "source": [
    "with open('resources/models/hyper-tuning/svm.tsv', 'w') as file:\n",
    "    file.write(f'C\\tkernel\\tdegree\\tprobability\\taccuracy\\n')\n",
    "    combinations1 = hypertune(train_features, train_labels, models[\"svm\"], svm_grid1)\n",
    "    for mean, param in combinations1:\n",
    "        c, kernel, probability = param[\"C\"], param[\"kernel\"], param[\"probability\"]\n",
    "        file.write(f\"{c}\\t{kernel}\\t-\\t{probability}\\t{round(mean,5)}\\n\")\n",
    "        \n",
    "    combinations2 = hypertune(train_features, train_labels, models[\"svm\"], svm_grid2)\n",
    "    for mean, param in combinations1:\n",
    "        c,degree, kernel, probability = param[\"C\"], param[\"degree\"], param[\"kernel\"], param[\"probability\"]\n",
    "        file.write(f\"{c}\\t{kernel}\\t{degree}\\t{probability}\\t{round(mean,5)}\\n\")"
   ],
   "id": "1b968fe54e5ab213",
   "outputs": [
    {
     "name": "stdout",
     "output_type": "stream",
     "text": [
      "Fitting 10 folds for each of 42 candidates, totalling 420 fits\n"
     ]
    },
    {
     "name": "stderr",
     "output_type": "stream",
     "text": [
      "\n",
      "KeyboardInterrupt\n",
      "\n"
     ]
    }
   ],
   "execution_count": 10
  },
  {
   "metadata": {
    "ExecuteTime": {
     "end_time": "2024-06-06T16:31:53.709880Z",
     "start_time": "2024-06-06T16:31:53.537807Z"
    }
   },
   "cell_type": "code",
   "source": [
    "svc = svm.SVC(kernel='linear',  C=100)\n",
    "svc.fit(train_features, train_labels)\n",
    "\n",
    "predictions = svc.predict(test_features)\n",
    "accuracy_score(test_labels, predictions)\n"
   ],
   "id": "8f85dfeb4e838eeb",
   "outputs": [
    {
     "data": {
      "text/plain": [
       "0.9166666666666666"
      ]
     },
     "execution_count": 13,
     "metadata": {},
     "output_type": "execute_result"
    }
   ],
   "execution_count": 13
  },
  {
   "metadata": {
    "ExecuteTime": {
     "end_time": "2024-06-06T16:31:56.320907Z",
     "start_time": "2024-06-06T16:31:56.307384Z"
    }
   },
   "cell_type": "code",
   "source": [
    "from pickle import dump\n",
    "\n",
    "with open(\"resources/models/all/svm.pkl\", \"wb\") as f:\n",
    "    dump(svc, f, protocol=5)"
   ],
   "id": "4af7dc771875e547",
   "outputs": [],
   "execution_count": 14
  },
  {
   "metadata": {},
   "cell_type": "markdown",
   "source": "## Logistic regression parameters",
   "id": "a76ac6a34106d493"
  },
  {
   "metadata": {
    "ExecuteTime": {
     "end_time": "2024-06-01T08:18:03.888149Z",
     "start_time": "2024-06-01T08:18:03.872493Z"
    }
   },
   "cell_type": "code",
   "source": [
    "penalty1 = ['l1']\n",
    "solvers1 = ['saga', 'liblinear']\n",
    "c_values = [100, 10, 1.0, 0.1, 0.01]\n",
    "lgr_grid1 = dict(solver=solvers1, penalty=penalty1, C=c_values)\n",
    "\n",
    "penalty2 = ['l2']\n",
    "solvers2 = ['lbfgs', 'liblinear', 'newton-cg', 'newton-cholesky', 'sag', 'saga']\n",
    "lgr_grid2 = dict(solver=solvers2, penalty=penalty2, C=c_values)"
   ],
   "id": "ee08bd4e61156b60",
   "outputs": [],
   "execution_count": 26
  },
  {
   "metadata": {
    "ExecuteTime": {
     "end_time": "2024-06-01T08:19:54.356714Z",
     "start_time": "2024-06-01T08:19:52.175020Z"
    }
   },
   "cell_type": "code",
   "source": [
    "with open('resources/models/hyper-tuning/logistic-regression.tsv', 'x') as file:\n",
    "    file.write(f'C\\tregularization\\tsolver\\taccuracy\\n')\n",
    "    combinations1 = hypertune(train_features, train_labels, models[\"lgr\"], lgr_grid1)\n",
    "    for mean, param in combinations1:\n",
    "        c, penalty ,solver = param[\"C\"], param[\"penalty\"], param[\"solver\"]\n",
    "        file.write(f\"{c}\\t{penalty}\\t{solver}\\t{round(mean,5)}\\n\")\n",
    "        \n",
    "    combinations2 = hypertune(train_features, train_labels, models[\"lgr\"], lgr_grid2)\n",
    "    for mean, param in combinations2:\n",
    "        c, penalty ,solver = param[\"C\"], param[\"penalty\"], param[\"solver\"]\n",
    "        file.write(f\"{c}\\t{penalty}\\t{solver}\\t{round(mean,5)}\\n\")"
   ],
   "id": "992b90c5860cf9e7",
   "outputs": [],
   "execution_count": 32
  },
  {
   "metadata": {
    "ExecuteTime": {
     "end_time": "2024-06-06T16:34:40.078794Z",
     "start_time": "2024-06-06T16:34:40.062542Z"
    }
   },
   "cell_type": "code",
   "source": [
    "lgr = LogisticRegression(C=0.1, penalty='l1', solver='liblinear')\n",
    "lgr.fit(train_features, train_labels)\n",
    "\n",
    "predictions = lgr.predict(test_features)\n",
    "accuracy_score(test_labels, predictions)\n"
   ],
   "id": "e23293059ba61b55",
   "outputs": [
    {
     "data": {
      "text/plain": [
       "0.9375"
      ]
     },
     "execution_count": 20,
     "metadata": {},
     "output_type": "execute_result"
    }
   ],
   "execution_count": 20
  },
  {
   "metadata": {
    "ExecuteTime": {
     "end_time": "2024-06-06T16:34:43.568705Z",
     "start_time": "2024-06-06T16:34:43.553050Z"
    }
   },
   "cell_type": "code",
   "source": [
    "\n",
    "from pickle import dump\n",
    "\n",
    "with open(\"resources/models/all/lgr.pkl\", \"wb\") as f:\n",
    "    dump(lgr, f, protocol=5)"
   ],
   "id": "d3b591c2a6eca392",
   "outputs": [],
   "execution_count": 21
  },
  {
   "metadata": {},
   "cell_type": "markdown",
   "source": "## Random forest parameters",
   "id": "8fbc6d3ef48cc549"
  },
  {
   "metadata": {
    "ExecuteTime": {
     "end_time": "2024-06-01T15:35:56.989414Z",
     "start_time": "2024-06-01T15:35:56.958226Z"
    }
   },
   "cell_type": "code",
   "source": [
    "n_estimators = range(1,101)\n",
    "max_features = range(1, 31)\n",
    "\n",
    "max_depth = [int(x) for x in np.linspace(10, 110, num = 11)] + [None]\n",
    "min_samples_split = range(1,11)\n",
    "min_samples_leaf = range(1,5)\n",
    "bootstrap = [True, False]\n",
    "\n",
    "\n",
    "rf_grid = dict(n_estimators=n_estimators, max_features=max_features, max_depth=max_depth, min_samples_split=min_samples_split, bootstrap=bootstrap)"
   ],
   "id": "a02d81438cb7ca1c",
   "outputs": [
    {
     "ename": "NameError",
     "evalue": "name 'np' is not defined",
     "output_type": "error",
     "traceback": [
      "\u001B[1;31m---------------------------------------------------------------------------\u001B[0m",
      "\u001B[1;31mNameError\u001B[0m                                 Traceback (most recent call last)",
      "Cell \u001B[1;32mIn[3], line 4\u001B[0m\n\u001B[0;32m      1\u001B[0m n_estimators \u001B[38;5;241m=\u001B[39m \u001B[38;5;28mrange\u001B[39m(\u001B[38;5;241m1\u001B[39m,\u001B[38;5;241m101\u001B[39m)\n\u001B[0;32m      2\u001B[0m max_features \u001B[38;5;241m=\u001B[39m \u001B[38;5;28mrange\u001B[39m(\u001B[38;5;241m1\u001B[39m, \u001B[38;5;241m31\u001B[39m)\n\u001B[1;32m----> 4\u001B[0m max_depth \u001B[38;5;241m=\u001B[39m [\u001B[38;5;28mint\u001B[39m(x) \u001B[38;5;28;01mfor\u001B[39;00m x \u001B[38;5;129;01min\u001B[39;00m \u001B[43mnp\u001B[49m\u001B[38;5;241m.\u001B[39mlinspace(\u001B[38;5;241m10\u001B[39m, \u001B[38;5;241m110\u001B[39m, num \u001B[38;5;241m=\u001B[39m \u001B[38;5;241m11\u001B[39m)] \u001B[38;5;241m+\u001B[39m [\u001B[38;5;28;01mNone\u001B[39;00m]\n\u001B[0;32m      5\u001B[0m min_samples_split \u001B[38;5;241m=\u001B[39m \u001B[38;5;28mrange\u001B[39m(\u001B[38;5;241m1\u001B[39m,\u001B[38;5;241m11\u001B[39m)\n\u001B[0;32m      6\u001B[0m min_samples_leaf \u001B[38;5;241m=\u001B[39m \u001B[38;5;28mrange\u001B[39m(\u001B[38;5;241m1\u001B[39m,\u001B[38;5;241m5\u001B[39m)\n",
      "\u001B[1;31mNameError\u001B[0m: name 'np' is not defined"
     ]
    }
   ],
   "execution_count": 3
  },
  {
   "metadata": {
    "jupyter": {
     "is_executing": true
    },
    "ExecuteTime": {
     "start_time": "2024-06-01T10:50:55.886452Z"
    }
   },
   "cell_type": "code",
   "source": [
    "with open('resources/models/hyper-tuning/random-forest.tsv', 'x') as file:\n",
    "    file.write(f'n_estimators\\tmax_features\\tmax_depth\\tmin_samples_split\\tmin_samples_leaf\\tbagging\\taccuracy\\n')\n",
    "    combinations = hypertune(train_features, train_labels, models[\"rf\"], rf_grid)\n",
    "    for mean, param in combinations:\n",
    "        n_estimators = param[\"n_estimators\"]\n",
    "        max_features = param[\"max_features\"]\n",
    "        max_depth = param[\"max_depth\"]\n",
    "        min_samples_split = param[\"min_samples_split\"]\n",
    "        min_samples_leaf = param[\"min_samples_leaf\"]\n",
    "        bootstrap = param[\"bootstrap\"]\n",
    "        \n",
    "        file.write(f\"{n_estimators}\\t{max_features}\\t{max_depth}\\t{min_samples_split}\\t{min_samples_leaf}\\t{bootstrap}\\t{round(mean,5)}\\n\")"
   ],
   "id": "846a576c90fba5fe",
   "outputs": [],
   "execution_count": null
  },
  {
   "metadata": {
    "ExecuteTime": {
     "end_time": "2024-06-06T16:35:58.559137Z",
     "start_time": "2024-06-06T16:35:58.273463Z"
    }
   },
   "cell_type": "code",
   "source": [
    "rf = RandomForestClassifier(n_estimators=100, max_features=12, max_depth=20, min_samples_split=2, min_samples_leaf=2, bootstrap=True)\n",
    "rf.fit(train_features, train_labels)\n",
    "\n",
    "predictions = rf.predict(test_features)\n",
    "accuracy_score(test_labels, predictions)\n"
   ],
   "id": "fd46459363300598",
   "outputs": [
    {
     "data": {
      "text/plain": [
       "0.9375"
      ]
     },
     "execution_count": 24,
     "metadata": {},
     "output_type": "execute_result"
    }
   ],
   "execution_count": 24
  },
  {
   "metadata": {
    "ExecuteTime": {
     "end_time": "2024-06-06T16:36:22.926112Z",
     "start_time": "2024-06-06T16:36:22.912566Z"
    }
   },
   "cell_type": "code",
   "source": [
    "from pickle import dump\n",
    "\n",
    "with open(\"resources/models/all/rf.pkl\", \"wb\") as f:\n",
    "    dump(rf, f, protocol=5)"
   ],
   "id": "a7f75e2f1fd02aee",
   "outputs": [],
   "execution_count": 25
  },
  {
   "metadata": {},
   "cell_type": "markdown",
   "source": "## Naive Bayes parameters",
   "id": "a68c838972b6bfc6"
  },
  {
   "metadata": {
    "ExecuteTime": {
     "end_time": "2024-06-01T10:44:11.537409Z",
     "start_time": "2024-06-01T10:44:11.506130Z"
    }
   },
   "cell_type": "code",
   "source": [
    "var_smoothing = [10**i for i in range(-11, -7)]\n",
    "gnb_grid = dict(var_smoothing=var_smoothing)"
   ],
   "id": "cf8ab8e2eadcbfb1",
   "outputs": [],
   "execution_count": 14
  },
  {
   "metadata": {
    "ExecuteTime": {
     "end_time": "2024-06-01T10:44:16.522914Z",
     "start_time": "2024-06-01T10:44:12.645757Z"
    }
   },
   "cell_type": "code",
   "source": [
    "with open('resources/models/hyper-tuning/gaussian-naive-bayes.tsv', 'x') as file:\n",
    "    file.write(f'var_smoothing\\taccuracy\\n')\n",
    "    combinations = hypertune(train_features, train_labels, models[\"gnb\"], gnb_grid)\n",
    "    for mean, param in combinations:\n",
    "        var_smoothing = param[\"var_smoothing\"]\n",
    "        file.write(f\"{var_smoothing}\\t{round(mean,5)}\\n\")"
   ],
   "id": "ef0a58e37df96f47",
   "outputs": [
    {
     "name": "stdout",
     "output_type": "stream",
     "text": [
      "Fitting 10 folds for each of 4 candidates, totalling 40 fits\n"
     ]
    }
   ],
   "execution_count": 15
  },
  {
   "metadata": {
    "ExecuteTime": {
     "end_time": "2024-06-06T16:37:26.400743Z",
     "start_time": "2024-06-06T16:37:26.372881Z"
    }
   },
   "cell_type": "code",
   "source": [
    "gnb = GaussianNB()\n",
    "gnb.fit(train_features, train_labels)\n",
    "\n",
    "predictions = gnb.predict(test_features)\n",
    "accuracy_score(test_labels, predictions)\n"
   ],
   "id": "d6602f990614e329",
   "outputs": [
    {
     "data": {
      "text/plain": [
       "0.9375"
      ]
     },
     "execution_count": 28,
     "metadata": {},
     "output_type": "execute_result"
    }
   ],
   "execution_count": 28
  },
  {
   "metadata": {
    "ExecuteTime": {
     "end_time": "2024-06-06T16:37:28.804104Z",
     "start_time": "2024-06-06T16:37:28.788047Z"
    }
   },
   "cell_type": "code",
   "source": [
    "from pickle import dump\n",
    "\n",
    "with open(\"resources/models/all/gnb.pkl\", \"wb\") as f:\n",
    "    dump(gnb, f, protocol=5)"
   ],
   "id": "2f2408da45d7d5c",
   "outputs": [],
   "execution_count": 29
  }
 ],
 "metadata": {
  "kernelspec": {
   "display_name": "Python 3",
   "language": "python",
   "name": "python3"
  },
  "language_info": {
   "codemirror_mode": {
    "name": "ipython",
    "version": 2
   },
   "file_extension": ".py",
   "mimetype": "text/x-python",
   "name": "python",
   "nbconvert_exporter": "python",
   "pygments_lexer": "ipython2",
   "version": "2.7.6"
  }
 },
 "nbformat": 4,
 "nbformat_minor": 5
}
